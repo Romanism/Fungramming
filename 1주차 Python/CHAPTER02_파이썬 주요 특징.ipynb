{
 "cells": [
  {
   "cell_type": "markdown",
   "metadata": {},
   "source": [
    "# CHAPTER2 파이썬의 주요 특징\n",
    "\n",
    "- 파이썬 코드가 말하는 파이썬의 특징\n",
    "- 들여쓰기(코드블록)\n",
    "- 세미콜론 없음\n",
    "- 인터랙티브 인터프리터\n",
    "- .py 파일 실행\n",
    "- 파일 인코딩\n",
    "- Pythonic way\n",
    "- 파이썬2와 파이썬 3의 차이점"
   ]
  },
  {
   "cell_type": "markdown",
   "metadata": {},
   "source": [
    "---"
   ]
  },
  {
   "cell_type": "markdown",
   "metadata": {},
   "source": [
    "### 2.1 파이썬 코드가 말하는 파이썬의 특징"
   ]
  },
  {
   "cell_type": "markdown",
   "metadata": {},
   "source": [
    "- 플랫폼이 독립적이며 인터프리터 방식\n",
    "- 객체지향적\n",
    "- 동적 타이핑 대화형 언어"
   ]
  },
  {
   "cell_type": "code",
   "execution_count": 1,
   "metadata": {
    "scrolled": false
   },
   "outputs": [
    {
     "name": "stdout",
     "output_type": "stream",
     "text": [
      "The Zen of Python, by Tim Peters\n",
      "\n",
      "Beautiful is better than ugly.\n",
      "Explicit is better than implicit.\n",
      "Simple is better than complex.\n",
      "Complex is better than complicated.\n",
      "Flat is better than nested.\n",
      "Sparse is better than dense.\n",
      "Readability counts.\n",
      "Special cases aren't special enough to break the rules.\n",
      "Although practicality beats purity.\n",
      "Errors should never pass silently.\n",
      "Unless explicitly silenced.\n",
      "In the face of ambiguity, refuse the temptation to guess.\n",
      "There should be one-- and preferably only one --obvious way to do it.\n",
      "Although that way may not be obvious at first unless you're Dutch.\n",
      "Now is better than never.\n",
      "Although never is often better than *right* now.\n",
      "If the implementation is hard to explain, it's a bad idea.\n",
      "If the implementation is easy to explain, it may be a good idea.\n",
      "Namespaces are one honking great idea -- let's do more of those!\n"
     ]
    }
   ],
   "source": [
    "# Zen of Python\n",
    "import this"
   ]
  },
  {
   "cell_type": "markdown",
   "metadata": {},
   "source": [
    "### 2.2 들여쓰기(코드블록)"
   ]
  },
  {
   "cell_type": "code",
   "execution_count": 2,
   "metadata": {},
   "outputs": [
    {
     "name": "stdout",
     "output_type": "stream",
     "text": [
      "0\n",
      "Under 5!\n",
      "4\n",
      "Under 5!\n",
      "8\n",
      "Over 5!\n",
      "12\n",
      "Over 5!\n",
      "16\n",
      "Over 5!\n"
     ]
    }
   ],
   "source": [
    "for i in range(10):\n",
    "    if i % 2 == 0:\n",
    "        print(i *2)\n",
    "        \n",
    "    else:\n",
    "        if  i<5:\n",
    "            print(\"Under 5!\")\n",
    "        else:\n",
    "            print(\"Over 5!\")"
   ]
  },
  {
   "cell_type": "markdown",
   "metadata": {},
   "source": [
    "### 2.3 세미콜론 없음"
   ]
  },
  {
   "cell_type": "code",
   "execution_count": 3,
   "metadata": {},
   "outputs": [
    {
     "name": "stdout",
     "output_type": "stream",
     "text": [
      "1\n",
      "2\n",
      "3\n"
     ]
    }
   ],
   "source": [
    "# 일반적으로는 사용 X, But 한 행의 내용이 간단해 다음 행도 같이 쓰고 싶을 때 사용\n",
    "grade = 5\n",
    "if grade == 5 : a = 1; b=2; c=3\n",
    "    \n",
    "print(a); print(b); print(c)"
   ]
  },
  {
   "cell_type": "markdown",
   "metadata": {},
   "source": [
    "### 2.4 인터랙티브 인터프리터"
   ]
  },
  {
   "cell_type": "markdown",
   "metadata": {},
   "source": [
    "- 파이썬은 스크립트 언어 : 실행되는 순간에 코드를 일어들이면서 컴파일 하는 JIT(Just In Time)방식을 사용"
   ]
  },
  {
   "cell_type": "markdown",
   "metadata": {},
   "source": [
    "### 2.5 .py 파일 실행"
   ]
  },
  {
   "cell_type": "markdown",
   "metadata": {},
   "source": [
    "- 파이썬 코드는 .py라는 확장자로 저장\n",
    "- cML에서 python 파일이름.py라는 명령을 통해 코드를 실행"
   ]
  },
  {
   "cell_type": "markdown",
   "metadata": {},
   "source": [
    "### 2.6 파일 인코딩"
   ]
  },
  {
   "cell_type": "markdown",
   "metadata": {},
   "source": [
    "- 파이썬 3.x부터 UTF-8을 기본 인코딩으로 지정"
   ]
  },
  {
   "cell_type": "markdown",
   "metadata": {},
   "source": [
    "### 2.7 Pythonic way"
   ]
  },
  {
   "cell_type": "code",
   "execution_count": null,
   "metadata": {},
   "outputs": [],
   "source": [
    "# 누구나 알 수 있는 매우 명시적인 방법들을 실천\n",
    "\n",
    "# Non Pythonic way\n",
    "for i in range(mylist_length):\n",
    "    do_something(mylist[i])\n",
    "    \n",
    "# pythonic way\n",
    "for element in mylist:\n",
    "    do_somthing(element)"
   ]
  },
  {
   "cell_type": "markdown",
   "metadata": {},
   "source": [
    "### 2.8 파이썬2와 파이썬 3의 차이점"
   ]
  },
  {
   "cell_type": "markdown",
   "metadata": {},
   "source": [
    "- 눈에 띄게 변한것은 print()가 확실하게 함수처럼 사용된다는 점\n",
    "- 그외엔 바뀐게 별로 없어 처음 시작할땐 3.x를 사용하는 것을 권장"
   ]
  }
 ],
 "metadata": {
  "kernelspec": {
   "display_name": "Python 3",
   "language": "python",
   "name": "python3"
  },
  "language_info": {
   "codemirror_mode": {
    "name": "ipython",
    "version": 3
   },
   "file_extension": ".py",
   "mimetype": "text/x-python",
   "name": "python",
   "nbconvert_exporter": "python",
   "pygments_lexer": "ipython3",
   "version": "3.6.6"
  }
 },
 "nbformat": 4,
 "nbformat_minor": 2
}

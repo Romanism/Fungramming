{
 "cells": [
  {
   "cell_type": "markdown",
   "metadata": {},
   "source": [
    "# CHAPTER13 메시지 큐 만들기\n",
    "\n",
    "- 메시지 큐\n",
    "- RabbitMQ 소개\n",
    "- RabbitMQ 기본 동작 개념\n",
    "- 셀러리 : 메시지 큐를 이용한 분산 처리 애플리케이션"
   ]
  },
  {
   "cell_type": "markdown",
   "metadata": {},
   "source": [
    "---"
   ]
  },
  {
   "cell_type": "markdown",
   "metadata": {},
   "source": [
    "### 13.1 메시지 큐"
   ]
  },
  {
   "cell_type": "markdown",
   "metadata": {},
   "source": [
    "- 메시지 큐는 서로 다른 프로그램 사이에 공유할 수 있는 무제한 크기의 버퍼입니다.\n",
    "- 사용자가 입력한 메시지를 보낼 때의 중간 자료구조임을 알 수 있습니다."
   ]
  },
  {
   "cell_type": "markdown",
   "metadata": {},
   "source": [
    "### 13.2 RabbitMQ 소개"
   ]
  },
  {
   "cell_type": "markdown",
   "metadata": {},
   "source": [
    "- 사용하기 간단하고 대부분 운영체제에서 실행되며 메시지 규의 표준 중 하나인 'AMQP'를 준수하는 오픈 소스 메시지 브로커입니다.\n",
    "- 설치와 실행 등이 간단하므로 메시지 큐를 이해하고 사용하기에 좋습니다.\n",
    "- 메시지 큐 서버에서는 큐들을 관리할 수 있는 웹 GUI를 지원합니다."
   ]
  },
  {
   "cell_type": "markdown",
   "metadata": {},
   "source": [
    "- 실행 : MAC의 경우 /usr/local/sbin 으로 이동 후 rabbitmq-server를 실행"
   ]
  },
  {
   "cell_type": "markdown",
   "metadata": {},
   "source": [
    "### 13.3 RabbitMQ의 기본 동작 개념"
   ]
  },
  {
   "cell_type": "markdown",
   "metadata": {},
   "source": [
    "- pika 패키지 설치\n",
    "- 메시지 전달 : 큐에 넣고 가져오기\n",
    "- 작업 분배 : 큐에 넣고, 여러 개의 워커가 가져기고, 작업 종료 확인하기"
   ]
  },
  {
   "cell_type": "markdown",
   "metadata": {},
   "source": [
    "### 13.4 셀러리 : 메시지 큐를 이용한 분산 처리 애플리케이션"
   ]
  },
  {
   "cell_type": "markdown",
   "metadata": {},
   "source": [
    "- 비동기 처리를 간단하게 분산시켜서 작업하고 싶을 때 사용하는 것이 셀러리입니다."
   ]
  }
 ],
 "metadata": {
  "kernelspec": {
   "display_name": "Python 3",
   "language": "python",
   "name": "python3"
  },
  "language_info": {
   "codemirror_mode": {
    "name": "ipython",
    "version": 3
   },
   "file_extension": ".py",
   "mimetype": "text/x-python",
   "name": "python",
   "nbconvert_exporter": "python",
   "pygments_lexer": "ipython3",
   "version": "3.6.5"
  }
 },
 "nbformat": 4,
 "nbformat_minor": 2
}

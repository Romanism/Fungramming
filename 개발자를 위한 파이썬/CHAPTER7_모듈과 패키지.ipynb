{
 "cells": [
  {
   "cell_type": "markdown",
   "metadata": {},
   "source": [
    "# CHAPTER7 모듈과 패키지\n",
    "\n",
    "- 모듈\n",
    "- 패키지"
   ]
  },
  {
   "cell_type": "markdown",
   "metadata": {},
   "source": [
    "---"
   ]
  },
  {
   "cell_type": "markdown",
   "metadata": {},
   "source": [
    "### 7.1 모듈 (Module)"
   ]
  },
  {
   "cell_type": "markdown",
   "metadata": {},
   "source": [
    ": 함수나 클래스를 묶어 누구나 사용할 수 있는 형태로 만드는 것을 의미합니다."
   ]
  },
  {
   "cell_type": "markdown",
   "metadata": {},
   "source": [
    "#### 모듈 만드는 법\n",
    "\n",
    "1. 텍스트 에디터를 엽니다.\n",
    "2. 파이썬 코드를 작성합니다.\n",
    "3. 저장합니다."
   ]
  },
  {
   "cell_type": "code",
   "execution_count": 1,
   "metadata": {},
   "outputs": [
    {
     "name": "stdout",
     "output_type": "stream",
     "text": [
      "Writing diva.py\n"
     ]
    }
   ],
   "source": [
    "# jupyter에서 파이썬 코드를 작성후 저장\n",
    "%%writefile diva.py\n",
    "# coding: utf-8\n",
    "class Singer:\n",
    "    def __init__(self, name=\"miku\"):\n",
    "        self.name = name\n",
    "\n",
    "    def song(title=\"No name\"):\n",
    "        print(\"Sing the \", title)"
   ]
  },
  {
   "cell_type": "code",
   "execution_count": 2,
   "metadata": {},
   "outputs": [
    {
     "name": "stdout",
     "output_type": "stream",
     "text": [
      "Sing the  Weekend Girl\n"
     ]
    }
   ],
   "source": [
    "# 불러오기 (import 방식)\n",
    "import diva\n",
    "\n",
    "diva.Singer.song(\"Weekend Girl\")"
   ]
  },
  {
   "cell_type": "markdown",
   "metadata": {},
   "source": [
    "### 7.2 패키지"
   ]
  },
  {
   "cell_type": "markdown",
   "metadata": {},
   "source": [
    "- __init__.py 파일을 어떤 디렉터리 안에 넣으면 해당 디렉터리는 패키지가 됩니다.\n",
    "- 모듈의 집합체 입니다."
   ]
  }
 ],
 "metadata": {
  "kernelspec": {
   "display_name": "Python 3",
   "language": "python",
   "name": "python3"
  },
  "language_info": {
   "codemirror_mode": {
    "name": "ipython",
    "version": 3
   },
   "file_extension": ".py",
   "mimetype": "text/x-python",
   "name": "python",
   "nbconvert_exporter": "python",
   "pygments_lexer": "ipython3",
   "version": "3.6.5"
  }
 },
 "nbformat": 4,
 "nbformat_minor": 2
}

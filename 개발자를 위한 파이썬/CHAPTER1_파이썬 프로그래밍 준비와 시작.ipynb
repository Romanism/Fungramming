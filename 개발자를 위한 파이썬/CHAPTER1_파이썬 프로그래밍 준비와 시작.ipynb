{
 "cells": [
  {
   "cell_type": "markdown",
   "metadata": {},
   "source": [
    "# CHAPTER1 파이썬 프로그래밍 준비와 시작\n",
    "\n",
    "- 파이썬의 역사\n",
    "- 파이썬을 익히면 좋은 점\n",
    "- 파이썬 활용이 활발한 개발 분야\n",
    "- 조금은 어려운 Hello World"
   ]
  },
  {
   "cell_type": "markdown",
   "metadata": {},
   "source": [
    "---"
   ]
  },
  {
   "cell_type": "markdown",
   "metadata": {},
   "source": [
    "### 1.1 파이썬의 역사"
   ]
  },
  {
   "cell_type": "markdown",
   "metadata": {},
   "source": [
    "- 1991년 귀도 반 로섬(Guido van Rossum)이 발표한 프로그래밍 언어\n",
    "- 몬티 파이썬의 플라잉 서커스에서 이름을 따옴\n",
    "- 동적 타이핑 스크립트 언어\n",
    "- 현재 2.x와 3.x 버전이 있지만 3.x를 권함"
   ]
  },
  {
   "cell_type": "markdown",
   "metadata": {},
   "source": [
    "### 1.2 파이썬을 익히면 좋은 점"
   ]
  },
  {
   "cell_type": "markdown",
   "metadata": {},
   "source": [
    "- 초보자부터 전분가까지 사용자층을 보유\n",
    "- 다양한 플랫폼에서 쓸 수 있음\n",
    "- 라이브러리(모듈)가 풍부\n",
    "- 대학을 비롯한 여러 교육기관, 연구 기관에서 이용이 증가"
   ]
  },
  {
   "cell_type": "markdown",
   "metadata": {},
   "source": [
    "### 1.3 파이썬 활용이 활발한 개발 분야"
   ]
  },
  {
   "cell_type": "markdown",
   "metadata": {},
   "source": [
    "- 웹 애플리케이션 (Flask, Django)\n",
    "- 크롤링 (Beautiful Soup, Scrapy)\n",
    "- 데이터 과학과 인공지능 개발 (Pandas, NumPy, SciPy, Matplotlib, scikit-learn)"
   ]
  },
  {
   "cell_type": "markdown",
   "metadata": {},
   "source": [
    "### 1.4 조금은 어려운 Hello World"
   ]
  },
  {
   "cell_type": "code",
   "execution_count": 1,
   "metadata": {
    "scrolled": true
   },
   "outputs": [
    {
     "name": "stdout",
     "output_type": "stream",
     "text": [
      "Hello Miku!\n"
     ]
    }
   ],
   "source": [
    "# 출력\n",
    "print('Hello Miku!')"
   ]
  },
  {
   "cell_type": "code",
   "execution_count": 2,
   "metadata": {},
   "outputs": [
    {
     "name": "stdout",
     "output_type": "stream",
     "text": [
      "Please Input Your Name : JI\n",
      "Please Input Your Favorite Number : 7\n",
      "JI's favorite number is 7'\n"
     ]
    }
   ],
   "source": [
    "# 입력 & 출력\n",
    "user_name = input('Please Input Your Name : ')\n",
    "user_number = input('Please Input Your Favorite Number : ')\n",
    "\n",
    "print(\"{}'s favorite number is {}'\".format(user_name, user_number))"
   ]
  },
  {
   "cell_type": "code",
   "execution_count": null,
   "metadata": {},
   "outputs": [],
   "source": [
    "infile_name = input('Please Input File Name : ')\n",
    "outfile_name = \"out.log\"\n",
    "\n",
    "with open(infile_name) as infile:\n",
    "    \n",
    "    with open(outfile_name, \"W\") as outfile:\n",
    "        \n",
    "        for in_line in infile.readlines():\n",
    "            \n",
    "            outfile.write(\"Read from %s : %s\"%(infile_name, in_line))"
   ]
  }
 ],
 "metadata": {
  "kernelspec": {
   "display_name": "Python 3",
   "language": "python",
   "name": "python3"
  },
  "language_info": {
   "codemirror_mode": {
    "name": "ipython",
    "version": 3
   },
   "file_extension": ".py",
   "mimetype": "text/x-python",
   "name": "python",
   "nbconvert_exporter": "python",
   "pygments_lexer": "ipython3",
   "version": "3.6.6"
  }
 },
 "nbformat": 4,
 "nbformat_minor": 2
}

{
 "cells": [
  {
   "cell_type": "markdown",
   "metadata": {},
   "source": [
    "# CHAPTER15 Open API로 매시업 API 서버 만들기\n",
    "\n",
    "- 접근 권한 획득하기\n",
    "- 데이터 요청하기와 표시하기\n",
    "- 매시업 API 만들기"
   ]
  },
  {
   "cell_type": "markdown",
   "metadata": {},
   "source": [
    "---"
   ]
  },
  {
   "cell_type": "markdown",
   "metadata": {},
   "source": [
    "### 15.0 개요"
   ]
  },
  {
   "cell_type": "markdown",
   "metadata": {},
   "source": [
    "- 페이스북, 트위터, 인스타그램, 네이버, 카카오 등에서는 자사의 서비스 일부를 자유롭게 사용할 수 있도록 API를 제공합니다.\n",
    "- 이러한 API를 Open API로 합니다.\n",
    "- Open API는 대부분 값을 요청하고 받아오는 데 초점이 맞춰져 있습니다.\n",
    "- 다른 점은 주로 요청할 때의 권한 확인, 결과를 받을 때의 포맷 지정 등입니다."
   ]
  },
  {
   "cell_type": "markdown",
   "metadata": {},
   "source": [
    "### 15.1 접근 권한 획득하기"
   ]
  },
  {
   "cell_type": "markdown",
   "metadata": {},
   "source": [
    "- 카카오 API키 획득하기\n",
    "- 네이버 API키 획득하기"
   ]
  },
  {
   "cell_type": "markdown",
   "metadata": {},
   "source": [
    "### 15.2 데이터 요청하기와 표시하기"
   ]
  },
  {
   "cell_type": "code",
   "execution_count": 1,
   "metadata": {},
   "outputs": [],
   "source": [
    "# data import\n",
    "import requests\n",
    "import json\n",
    "from difflib import SequenceMatcher\n",
    "import re"
   ]
  },
  {
   "cell_type": "code",
   "execution_count": 2,
   "metadata": {},
   "outputs": [
    {
     "data": {
      "text/plain": [
       "{'errorType': 'AccessDeniedError', 'message': 'cannot find appkey'}"
      ]
     },
     "execution_count": 2,
     "metadata": {},
     "output_type": "execute_result"
    }
   ],
   "source": [
    "# Kakao\n",
    "url = \"https://dapi.kakao.com/v2/search/book\"\n",
    "querystring = {\"query\":\"신영준\"}\n",
    "header = {\"authorization\":\"KaKaoAk <API>\"}\n",
    "r = requests.get(url, headers = header, params = querystring)\n",
    "json.loads(r.text)"
   ]
  },
  {
   "cell_type": "code",
   "execution_count": 3,
   "metadata": {},
   "outputs": [
    {
     "data": {
      "text/plain": [
       "{'errorMessage': 'NID AUTH Result Invalid (1000) : Authentication failed. (인증에 실패했습니다.)',\n",
       " 'errorCode': '024'}"
      ]
     },
     "execution_count": 3,
     "metadata": {},
     "output_type": "execute_result"
    }
   ],
   "source": [
    "# Naver\n",
    "url = \"https://openapi.naver.com/v1/search/book.json?\"\n",
    "client_id = \"<Client ID>\"\n",
    "client_secret = \"<Client Secret>\"\n",
    "\n",
    "q = \"query=\" + \"신영준\"\n",
    "\n",
    "headers = {\n",
    "    \"X-Naver-Client-Id\":client_id,\n",
    "    \"X-Naver-Client-secret\":client_secret\n",
    "}\n",
    "\n",
    "r = requests.get(url+q, headers=headers)\n",
    "json.loads(r.text)"
   ]
  },
  {
   "cell_type": "markdown",
   "metadata": {},
   "source": [
    "### 15.3 매시업 API 만들기"
   ]
  },
  {
   "cell_type": "markdown",
   "metadata": {},
   "source": [
    "- 여러 서비스가 제공하는 API를 이용해서 하나의 앱을 만들어내는 것을 매시업이라고 합니다.\n",
    "- 구글 맵 위에 정보를 마킹해서 보여주거나 여러 API 정보를 종합해서 요약하는 것이 매시업에 해당합니다."
   ]
  },
  {
   "cell_type": "code",
   "execution_count": 4,
   "metadata": {},
   "outputs": [],
   "source": [
    "# Kakao 무비\n",
    "def get_kakao_video_search(q) :\n",
    "    url = \"https://dapi.kakao.com/v2/search/vclip\"\n",
    "\n",
    "    querystring = {\"query\":q}\n",
    "\n",
    "    # 각자 발급받은 키를 입력합니다.\n",
    "    header = {'authorization': 'KakaoAK <REST API 키>'}\n",
    "\n",
    "    response = requests.request(\"GET\", url, headers=header, params=querystring)\n",
    "    result_json = json.loads(response.text)\n",
    "    \n",
    "    if result_json['meta']['total_count']> 0:\n",
    "        kakao_videos = [{'url' : i['url'], 'thumbnail':i['thumbnail'], 'title':i['title']} for i in result_json['documents']]\n",
    "    else :\n",
    "        kakao_videos = []\n",
    "    return kakao_videos"
   ]
  },
  {
   "cell_type": "code",
   "execution_count": 5,
   "metadata": {},
   "outputs": [],
   "source": [
    "# the movie database\n",
    "def get_themoviedb_info(eng_title) :\n",
    "    themoviedb_url = \"https://api.themoviedb.org/3/search/movie\"\n",
    "    p = {\n",
    "        \"api_key\":\"<API 키>\",\n",
    "        \"query\":eng_title\n",
    "    }\n",
    "\n",
    "    response = requests.get(themoviedb_url, params=p)\n",
    "\n",
    "    # 첫 번째 결과만 가져오겠습니다.\n",
    "    themoviedb_result = json.loads(response.text)\n",
    "    if themoviedb_result['total_results'] > 0 :\n",
    "        item = themoviedb_result['results'][0] \n",
    "    else :\n",
    "        item = None\n",
    "        \n",
    "    return item"
   ]
  },
  {
   "cell_type": "code",
   "execution_count": 6,
   "metadata": {},
   "outputs": [],
   "source": [
    "# naver 무비\n",
    "def get_naver_movie_info(q) : \n",
    "    url = \"https://openapi.naver.com/v1/search/movie.json\"\n",
    "\n",
    "    p = {\"query\":q}\n",
    "\n",
    "    headers = {\n",
    "        'x-naver-client-id': \"<Client ID>\",\n",
    "        'x-naver-client-secret': \"<Client Secret>\"\n",
    "        }\n",
    "\n",
    "    response = requests.get(url, headers=headers, params=p)\n",
    "\n",
    "    naver_result = json.loads(response.text)\n",
    "    items = naver_result['items']\n",
    "    \n",
    "    if naver_result['total'] == 0 :\n",
    "        return None\n",
    "    \n",
    "    for i in range(len(items)):\n",
    "        # 사용자가 입력한 검색어와 각 영화의 제목을 비교해서 비슷할수록 높은 점수를 매깁니다.\n",
    "        items[i]['title_similarity'] = SequenceMatcher(a = q, b = items[i]['title']).ratio()\n",
    "    \n",
    "    # 바로 앞에서 계산한 유사도 점수가 가장 높은 항목을 돌려줍니다. \n",
    "    # 검색어와 제일 유사한 영화 제목의 정보를 돌려줍니다.\n",
    "    return max(items, key= lambda x: x['title_similarity'])"
   ]
  },
  {
   "cell_type": "code",
   "execution_count": 7,
   "metadata": {},
   "outputs": [],
   "source": [
    "# kakao 영화 결과와 the movie database의 정보 연결\n",
    "def collect_movie_info(q) :\n",
    "    naver_data = get_naver_movie_info(q)\n",
    "    \n",
    "    if naver_data is None :\n",
    "        return None\n",
    "\n",
    "    eng_title = naver_data['subtitle']\n",
    "\n",
    "    themoviedb_data = get_themoviedb_info(q)\n",
    "\n",
    "    # themoviedb의 검색 결과가 있으면 비슷한 영화, 추천 영화를 가져오고\n",
    "    if themoviedb_data is not None :\n",
    "        themoviedb_movie_id = themoviedb_data['id']\n",
    "        \n",
    "        p = {\n",
    "            \"api_key\":\"<API 키>\"\n",
    "        }\n",
    "        \n",
    "        similar_movie_url = \"https://api.themoviedb.org/3/movie/{}/similar\".format(themoviedb_movie_id)\n",
    "        recommendation_url = \"https://api.themoviedb.org/3/movie/{}/recommendations\".format(themoviedb_movie_id)\n",
    "        \n",
    "        response = requests.get(similar_movie_url, data=p)\n",
    "        similar_result = json.loads(response.text)['results']\n",
    "\n",
    "        response = requests.get(recommendation_url, data=p)\n",
    "        recommend_result = json.loads(response.text)['results']\n",
    "    else :\n",
    "        # 검색 결과가 없으면 빈 값으로 설정합니다.\n",
    "        themoviedb_data = {}\n",
    "        themoviedb_data['vote_average'] = naver_data['userRating']\n",
    "        themoviedb_data['release_date'] = naver_data['pubDate']\n",
    "        similar_result = []\n",
    "        recommend_result = []\n",
    "        \n",
    "    kakao_data = get_kakao_video_search(q + \" 영화\")\n",
    "\n",
    "    # 네이버 검색 결과의 태그 제거\n",
    "    title = re.sub('<[^<]+?>', '', naver_data['title'])\n",
    "\n",
    "    movie_info = {    \n",
    "        # 다음 결과의 첫 번째 결과 정보들을 넣습니다.\n",
    "        # 국내 개봉 이름\n",
    "        \"title\":title,\n",
    "        \n",
    "        \"poster\":\"https://image.tmdb.org/t/p/w500\" + themoviedb_data['poster_path'],\n",
    "\n",
    "        # 영문 제목\n",
    "        \"eng_title\":eng_title,\n",
    "\n",
    "        # 영화 원제\n",
    "        \"ogr_title\":themoviedb_data['original_title'],\n",
    "\n",
    "        # 출연 배우\n",
    "        # 네이버 영화 정보에서 맨 마지막에 |가 붙어 있어서 생기는 빈 요소를 제거합니다.\n",
    "        \"actors\" : naver_data['actor'].split(\"|\")[:-1],\n",
    "        \n",
    "        # 감독\n",
    "        # 네이버 영화 정보에서 맨 마지막에 |가 붙어 있어서 생기는 빈 요소를 제거합니다.\n",
    "        \"director\" : naver_data['director'].split(\"|\")[:-1],\n",
    "\n",
    "        # 자세히 보러 가기 링크(네이버)\n",
    "        \"detail_link_naver\":naver_data['link'],\n",
    "\n",
    "        # 평점\n",
    "        \"rating\": themoviedb_data['vote_average'],\n",
    "        \n",
    "        # 개봉일\n",
    "        \"pub_date\" : themoviedb_data['release_date'],\n",
    "        \n",
    "        # 비슷한 영화\n",
    "        \"similar_movies\":[item['original_title'] for item in similar_result],\n",
    "\n",
    "        # 추천 영화\n",
    "        \"recommend_movies\":[item['original_title'] for item in recommend_result],\n",
    "        \n",
    "        # 동영상 검색\n",
    "        \"videos\" : kakao_data\n",
    "    }\n",
    "    \n",
    "    return movie_info"
   ]
  }
 ],
 "metadata": {
  "kernelspec": {
   "display_name": "Python 3",
   "language": "python",
   "name": "python3"
  },
  "language_info": {
   "codemirror_mode": {
    "name": "ipython",
    "version": 3
   },
   "file_extension": ".py",
   "mimetype": "text/x-python",
   "name": "python",
   "nbconvert_exporter": "python",
   "pygments_lexer": "ipython3",
   "version": "3.6.5"
  }
 },
 "nbformat": 4,
 "nbformat_minor": 2
}

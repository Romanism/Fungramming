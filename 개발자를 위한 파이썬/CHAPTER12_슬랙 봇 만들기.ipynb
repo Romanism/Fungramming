{
 "cells": [
  {
   "cell_type": "markdown",
   "metadata": {},
   "source": [
    "# CHAPTER12 슬랙 봇 만들기"
   ]
  },
  {
   "cell_type": "markdown",
   "metadata": {},
   "source": [
    "- 봇이 뭐죠?\n",
    "- 제작 과정 알아보기\n",
    "- 상호작용하는 주사위 봇 만들기\n",
    "- 정기적인 작업을 실행하는 봇 만들기"
   ]
  },
  {
   "cell_type": "markdown",
   "metadata": {},
   "source": [
    "### 12.1 봇이 뭐죠?"
   ]
  },
  {
   "cell_type": "markdown",
   "metadata": {},
   "source": [
    "- 봇은 보통 robot의 축약어로 사용하는 단어입니다.\n",
    "\n",
    "\n",
    "- 슬랙에서 봇은 봇 유저('Bot User')라고 합니다. \n",
    "\n",
    "\n",
    "    - 프로필 사진, 이름 등이 있습니다.\n",
    "    - 작업 디렉터리에 존재하며 직접 메시지를 보내거나 메시지를 게시하고 파일을 업로드 할 수 있습니다.\n",
    "    - 슬랙의 API에 접근하는 봇 유저 토큰을 이용한 프로그램 코드로 봇을 제어합니다.\n",
    "    - 일반 사용자가 이용할 수 있는 모든 API 메서드의 하위 세트에만 접근할 수 있습니다."
   ]
  },
  {
   "cell_type": "markdown",
   "metadata": {},
   "source": [
    "### 12.2 제작 과정 알아보기"
   ]
  },
  {
   "cell_type": "markdown",
   "metadata": {},
   "source": [
    "- 슬랙에서 봇은 크게 두가지 종류가 있습니다.\n",
    "\n",
    "\n",
    "    - Bots\n",
    "    - Incoming Webhooks Bots"
   ]
  },
  {
   "cell_type": "markdown",
   "metadata": {},
   "source": [
    "- 슬랙봇의 제작과정을 다음과 같습니다.\n",
    "\n",
    "\n",
    "    - API 토큰/Webhook URL 얻기\n",
    "    - 해당 토큰/URL을 이용해서 메시지 보내기\n",
    "    - (Bots의 경우) 리액션 설정하기\n",
    "    - 봇을 계속 실행해두기"
   ]
  },
  {
   "cell_type": "markdown",
   "metadata": {},
   "source": [
    "### 12.3 상호작용하는 주사위 봇 만들기"
   ]
  },
  {
   "cell_type": "markdown",
   "metadata": {},
   "source": [
    "- 상호작용하는 주사위 봇을 만들어보겠습니다."
   ]
  },
  {
   "cell_type": "markdown",
   "metadata": {},
   "source": [
    "#### 12.3.1 슬랙 봇 API 토큰 얻기\n",
    "\n",
    "\n",
    "- 슬랙에서 본인의 계쩡에 맞는 슬랙 애플리케이션을 다운로드합니다.\n",
    "- 워크스페이스를 생성합니다.\n",
    "- 슬랙앱에서 자기 계정을 클릭후 Administration - Manage App을 클릭합니다.\n",
    "- Bots를 검색합니다.\n",
    "- Add configuration을 클릭합니다.\n",
    "- 봇의 이름을 설정합니다.\n",
    "- Add bot integration을 클릭합니다.\n",
    "- 지정된 API Token을 얻을 수 있습니다."
   ]
  },
  {
   "cell_type": "markdown",
   "metadata": {},
   "source": [
    "#### 12.3.2 slackbot 패키지 설치\n",
    "\n",
    "    pip install slackbot"
   ]
  },
  {
   "cell_type": "markdown",
   "metadata": {},
   "source": [
    "#### 파일 만들기\n",
    "\n",
    "- dice_bot.py\n",
    "- run.py\n",
    "- slackbot_settings.py"
   ]
  },
  {
   "cell_type": "markdown",
   "metadata": {},
   "source": [
    "### 12.4 정기적인 작업 과정을 실행하는 봇 만들기"
   ]
  },
  {
   "cell_type": "markdown",
   "metadata": {},
   "source": [
    "- 실제 봇은 아니며 웹훅(webhook)을 이용한 브로드캐스팅에 더 가깝습니다."
   ]
  },
  {
   "cell_type": "markdown",
   "metadata": {},
   "source": [
    "#### 12.4.1 API 토큰 얻기"
   ]
  },
  {
   "cell_type": "markdown",
   "metadata": {},
   "source": [
    "- 우리가 만들 것은 웹훅을 이용한 메시징이므로 토큰형태가 아니라 URL이 될 것입니다.\n",
    "- 슬랙에서 본인의 계쩡에 맞는 슬랙 애플리케이션을 다운로드합니다.\n",
    "- 워크스페이스를 생성합니다.\n",
    "- 슬랙앱에서 자기 계정을 클릭후 Administration - Manage App을 클릭합니다.\n",
    "- Incoming WebHooks을 검색합니다.\n",
    "- Add configuration을 클릭합니다.\n",
    "- Post to Channel 항목 오른쪽의 드롭다운 메뉴를 눌러 어떤 채널에 메시지를 보낼 것인지 정합니다.\n",
    "- 선택 후에 Add Incoming WebHooks integration을 누릅니다.\n",
    "- WebHook URL을 얻을 수 있습니다."
   ]
  }
 ],
 "metadata": {
  "kernelspec": {
   "display_name": "Python 3",
   "language": "python",
   "name": "python3"
  },
  "language_info": {
   "codemirror_mode": {
    "name": "ipython",
    "version": 3
   },
   "file_extension": ".py",
   "mimetype": "text/x-python",
   "name": "python",
   "nbconvert_exporter": "python",
   "pygments_lexer": "ipython3",
   "version": "3.6.5"
  }
 },
 "nbformat": 4,
 "nbformat_minor": 2
}

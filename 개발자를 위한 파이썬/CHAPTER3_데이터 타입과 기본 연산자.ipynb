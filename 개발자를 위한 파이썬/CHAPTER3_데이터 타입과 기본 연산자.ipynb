{
 "cells": [
  {
   "cell_type": "markdown",
   "metadata": {},
   "source": [
    "# CHAPTER3 데이터 타입과 기본 연산자\n",
    "\n",
    "- 변수 선언\n",
    "- 정수\n",
    "- 실수\n",
    "- 정수와 실수의 연산\n",
    "- 문자열\n",
    "- 문자열의 연산\n",
    "- 리스트\n",
    "- 딕셔너리\n",
    "- 집합\n",
    "- 튜플"
   ]
  },
  {
   "cell_type": "markdown",
   "metadata": {},
   "source": [
    "---"
   ]
  },
  {
   "cell_type": "markdown",
   "metadata": {},
   "source": [
    "### 3.1 변수 선언"
   ]
  },
  {
   "cell_type": "code",
   "execution_count": 1,
   "metadata": {},
   "outputs": [],
   "source": [
    "diva = 'Song Hana'\n",
    "is_she_play_to_win = True\n",
    "digital_diva = \"Hatsune Miku\"\n",
    "diva_version = 3.0\n",
    "how_many_diva = 2\n",
    "diva_list = [diva, digital_diva]\n",
    "new_challenger = {\"name\" : \"Miku\"}"
   ]
  },
  {
   "cell_type": "code",
   "execution_count": 2,
   "metadata": {},
   "outputs": [
    {
     "name": "stdout",
     "output_type": "stream",
     "text": [
      "<class 'str'>\n",
      "<class 'bool'>\n",
      "<class 'str'>\n",
      "<class 'float'>\n",
      "<class 'int'>\n",
      "<class 'list'>\n",
      "<class 'dict'>\n"
     ]
    }
   ],
   "source": [
    "print(type(diva))\n",
    "print(type(is_she_play_to_win))\n",
    "print(type(digital_diva))\n",
    "print(type(diva_version))\n",
    "print(type(how_many_diva))\n",
    "print(type(diva_list))\n",
    "print(type(new_challenger))"
   ]
  },
  {
   "cell_type": "markdown",
   "metadata": {},
   "source": [
    "### 3.2 정수"
   ]
  },
  {
   "cell_type": "code",
   "execution_count": 3,
   "metadata": {},
   "outputs": [
    {
     "name": "stdout",
     "output_type": "stream",
     "text": [
      "39\n",
      "-3\n",
      "99999999999999999999999999999999999999999999999999\n"
     ]
    }
   ],
   "source": [
    "# 매우 큰 숫자도 처리 가능\n",
    "i = 39\n",
    "i2 = -3\n",
    "biiiiig_int = 99999999999999999999999999999999999999999999999999\n",
    "\n",
    "print(i)\n",
    "print(i2)\n",
    "print(biiiiig_int)"
   ]
  },
  {
   "cell_type": "markdown",
   "metadata": {},
   "source": [
    "### 3.3 실수"
   ]
  },
  {
   "cell_type": "code",
   "execution_count": 4,
   "metadata": {},
   "outputs": [
    {
     "name": "stdout",
     "output_type": "stream",
     "text": [
      "0.9999\n",
      "3.141592\n",
      "-3.9\n",
      "0.3333333333333333\n"
     ]
    }
   ],
   "source": [
    "f = 0.9999\n",
    "f2 = 3.141592\n",
    "f3 = -3.9\n",
    "f4 = 3/9\n",
    "\n",
    "print(f)\n",
    "print(f2)\n",
    "print(f3)\n",
    "print(f4)"
   ]
  },
  {
   "cell_type": "markdown",
   "metadata": {},
   "source": [
    "### 3.4 정수와 실수의 연산"
   ]
  },
  {
   "cell_type": "code",
   "execution_count": 5,
   "metadata": {},
   "outputs": [],
   "source": [
    "# 변수선언\n",
    "i1 = 39\n",
    "i2 = 939\n",
    "big_int1 = 123456789123456789012345678901234567890\n",
    "big_int2 = 999999999999999999999999999999999999999\n",
    "f1 = 1.234\n",
    "f2 = 3.939"
   ]
  },
  {
   "cell_type": "code",
   "execution_count": 6,
   "metadata": {},
   "outputs": [
    {
     "name": "stdout",
     "output_type": "stream",
     "text": [
      "i1 + i2 :  978\n",
      "f1 + f2 :  5.173\n",
      "big_int1 + big_int2 :  1123456789123456789012345678901234567889\n",
      "i1 + f1 :  40.234\n"
     ]
    }
   ],
   "source": [
    "# 더하기(+)\n",
    "print(\"i1 + i2 : \", i1 + i2) # 정수끼리\n",
    "print(\"f1 + f2 : \", f1 + f2) # 실수끼리\n",
    "print(\"big_int1 + big_int2 : \", big_int1 + big_int2) #엄청 큰 수끼리\n",
    "print(\"i1 + f1 : \", i1 + f1) #실수와 정수끼리"
   ]
  },
  {
   "cell_type": "code",
   "execution_count": 7,
   "metadata": {},
   "outputs": [
    {
     "name": "stdout",
     "output_type": "stream",
     "text": [
      "i1 - i2:  -900\n",
      "f1 - f2:  -2.705\n",
      "big_int1 - big_int2:  -876543210876543210987654321098765432109\n",
      "i1 - f1:  37.766\n"
     ]
    }
   ],
   "source": [
    "# 빼기(-)\n",
    "print(\"i1 - i2: \", i1 - i2) # 정수끼리\n",
    "print(\"f1 - f2: \", f1 - f2) # 실수끼리\n",
    "print(\"big_int1 - big_int2: \", big_int1 - big_int2) #엄청 큰 수끼리\n",
    "print(\"i1 - f1: \", i1 - f1) #실수와 정수끼리"
   ]
  },
  {
   "cell_type": "code",
   "execution_count": 8,
   "metadata": {},
   "outputs": [
    {
     "name": "stdout",
     "output_type": "stream",
     "text": [
      "i1 * i2:  36621\n",
      "f1 * f2:  4.860726\n",
      "big_int1 * big_int2:  123456789123456789012345678901234567889876543210876543210987654321098765432110\n",
      "i1 * f1:  48.126\n"
     ]
    }
   ],
   "source": [
    "# 곱하기(*)\n",
    "print(\"i1 * i2: \",i1 * i2) # 정수끼리\n",
    "print(\"f1 * f2: \",f1 * f2) # 실수끼리\n",
    "print(\"big_int1 * big_int2: \",big_int1 * big_int2) #엄청 큰 수끼리\n",
    "print(\"i1 * f1: \",i1 * f1) #실수와 정수끼리"
   ]
  },
  {
   "cell_type": "code",
   "execution_count": 9,
   "metadata": {},
   "outputs": [
    {
     "name": "stdout",
     "output_type": "stream",
     "text": [
      "i2 / i1:  24.076923076923077\n",
      "f2 / f1:  3.1920583468395463\n",
      "big_int2 / big_int1:  8.10000006561\n",
      "i1 / f1:  31.60453808752026\n",
      "f1 / i1:  0.03164102564102564\n"
     ]
    }
   ],
   "source": [
    "# 나누기(/)\n",
    "print(\"i2 / i1: \", i2 / i1) # 정수끼리\n",
    "print(\"f2 / f1: \", f2 / f1) # 실수끼리\n",
    "print(\"big_int2 / big_int1: \", big_int2 / big_int1) #엄청 큰 수끼리\n",
    "print(\"i1 / f1: \", i1 / f1) #실수와 정수끼리\n",
    "print(\"f1 / i1: \", f1 / i1)"
   ]
  },
  {
   "cell_type": "code",
   "execution_count": 10,
   "metadata": {},
   "outputs": [
    {
     "name": "stdout",
     "output_type": "stream",
     "text": [
      "i2 // i1:  24\n",
      "f2 // f1:  3.0\n",
      "big_int2 // big_int1:  8\n",
      "i1 // f1:  31.0\n",
      "f1 // i1:  0.0\n"
     ]
    }
   ],
   "source": [
    "# 몫(//)\n",
    "print(\"i2 // i1: \", i2 // i1) # 정수끼리\n",
    "print(\"f2 // f1: \", f2 // f1) # 실수끼리\n",
    "print(\"big_int2 // big_int1: \", big_int2 // big_int1) #엄청 큰 수끼리\n",
    "print(\"i1 // f1: \", i1 // f1) #실수와 정수끼리\n",
    "print(\"f1 // i1: \", f1 // i1)"
   ]
  },
  {
   "cell_type": "code",
   "execution_count": 11,
   "metadata": {},
   "outputs": [
    {
     "name": "stdout",
     "output_type": "stream",
     "text": [
      "i1 % i2 : 39\n",
      "f1 % f2 : 1.234\n",
      "big_int1 % big_int2 : 123456789123456789012345678901234567890\n",
      "i1 % f1 : 0.7460000000000004\n",
      "f1 % i1 : 1.234\n"
     ]
    }
   ],
   "source": [
    "# 나머지(%)\n",
    "print(\"i1 % i2 :\", i1 % i2) # 정수끼리\n",
    "print(\"f1 % f2 :\", f1 % f2) # 실수끼리\n",
    "print(\"big_int1 % big_int2 :\", big_int1 % big_int2) #엄청 큰 수끼리\n",
    "print(\"i1 % f1 :\", i1 % f1) #실수와 정수끼리\n",
    "print(\"f1 % i1 :\", f1 % i1)"
   ]
  },
  {
   "cell_type": "code",
   "execution_count": 12,
   "metadata": {},
   "outputs": [
    {
     "name": "stdout",
     "output_type": "stream",
     "text": [
      "2 ** 3:  8\n",
      "i1 ** i2:  1022506312626635583804665030439848517886568042318083335883591278398438037288741990566558622100138406141643558158275024105444365536879201660885612644021445261444940742179797251796081892688027914559485473798772396512743732340523023151763660943751019131006308098788307144783696606939051578708338398053028367082638273189192434285150846461558297694776902793801564417306838969109663906055052907811614020360408193312813992026141346881644852197209917516412059364266098525652931099021885382041007793566316514615169179944928856384530132713368424697747100417896428655313414528755698998321671054850811102964679789653723028769348909103153993982582100515416669313157230956389993552417454656410560599758074525741542650281866589385696863929193963058181665847576483338830549810589782953329729597632595024734286078284939382833418335640042579137106857539338373422439805326922155940680240986288345037060969659512427144030964154102951713380645977336411938613440920613823685184818054548437463240254014958456975735050353322662241529452981520149054985517676452974236772432487364293991470964099037797636014730970362515008030368654913029567190786024079384496497756671771817107140203810333022334649590282423942722147721919738626342294242915008528804177851320976364543109216532895238412244610627773269723239459235317671518827568480961721312764409452089860018349101981333363883093727283973691806925736612803559125010274993787069849308224144485220613402198029509103574257814462424323830881877483524940133039777525461756147959\n",
      "f1 ** f2:  2.289235194260789\n",
      "i1 ** f1:  91.91231928197118\n",
      "f1 ** i1:  3641.5915127246435\n"
     ]
    }
   ],
   "source": [
    "# 제곱(**)\n",
    "print(\"2 ** 3: \", 2 ** 3) # 2의 3승.\n",
    "print(\"i1 ** i2: \", i1 ** i2) # 정수끼리\n",
    "print(\"f1 ** f2: \", f1 ** f2) # 실수끼리\n",
    "print(\"i1 ** f1: \", i1 ** f1) #실수와 정수끼리\n",
    "print(\"f1 ** i1: \", f1 ** i1)"
   ]
  },
  {
   "cell_type": "markdown",
   "metadata": {},
   "source": [
    "### 3.5 문자열"
   ]
  },
  {
   "cell_type": "markdown",
   "metadata": {},
   "source": [
    "#### 3.5.1 기본"
   ]
  },
  {
   "cell_type": "code",
   "execution_count": 13,
   "metadata": {},
   "outputs": [
    {
     "name": "stdout",
     "output_type": "stream",
     "text": [
      "<class 'str'>\n",
      "<class 'str'>\n"
     ]
    }
   ],
   "source": [
    "diva = \"Miku\"\n",
    "another_diva = 'Song Hana'\n",
    "\n",
    "print(type(diva))\n",
    "print(type(another_diva))"
   ]
  },
  {
   "cell_type": "code",
   "execution_count": 14,
   "metadata": {},
   "outputs": [
    {
     "name": "stdout",
     "output_type": "stream",
     "text": [
      "This is \"double quote\"\n",
      "This isn't\n"
     ]
    }
   ],
   "source": [
    "# \\ : 평소와는 다른 방식을 쓰임\n",
    "escape_s1 = \"This is \\\"double quote\\\"\"\n",
    "escape_s2 = 'This isn\\'t'\n",
    "\n",
    "print(escape_s1) # 큰따옴표가 문자를 인식하는게 아닌 그 자체가 문자로써 쓰이도록 함\n",
    "print(escape_s2) # 작은따옴표가 문자를 인식하는게 아닌 그 자체가 문자로써 쓰이도록 함"
   ]
  },
  {
   "cell_type": "code",
   "execution_count": 15,
   "metadata": {},
   "outputs": [
    {
     "name": "stdout",
     "output_type": "stream",
     "text": [
      "Tab \tThis\n"
     ]
    }
   ],
   "source": [
    "# \\t : tab 기능\n",
    "s1 = \"Tab \\tThis\"\n",
    "print(s1)"
   ]
  },
  {
   "cell_type": "code",
   "execution_count": 16,
   "metadata": {},
   "outputs": [
    {
     "name": "stdout",
     "output_type": "stream",
     "text": [
      "New Line\n",
      "Hello!\n"
     ]
    }
   ],
   "source": [
    "# \\n : 한줄 띄어쓰기\n",
    "s2 = \"New Line\\nHello!\"\n",
    "print(s2)"
   ]
  },
  {
   "cell_type": "markdown",
   "metadata": {},
   "source": [
    "#### 3.5.2 raw 문자열 표현법"
   ]
  },
  {
   "cell_type": "code",
   "execution_count": 17,
   "metadata": {},
   "outputs": [
    {
     "name": "stdout",
     "output_type": "stream",
     "text": [
      "C:\\Programs\\new program\\\"\n",
      "\\\\t\\n\\b\\s\n",
      "\\'\"\n",
      "\\\"'\n"
     ]
    }
   ],
   "source": [
    "# 역슬래시가 위의 방식이 아닌 문자 그대로 사용하고 싶을때는 r을 사용\n",
    "\n",
    "raw_s1 = r'C:\\Programs\\new program\\\"'\n",
    "raw_s2 = r\"\\\\t\\n\\b\\s\"\n",
    "raw_s3 = r'\\'\"'\n",
    "raw_s4 = r\"\\\"'\"\n",
    "\n",
    "# 역슬래시가 문자로 인식되어 출력\n",
    "print(raw_s1)\n",
    "print(raw_s2)\n",
    "print(raw_s3)\n",
    "print(raw_s4)"
   ]
  },
  {
   "cell_type": "markdown",
   "metadata": {},
   "source": [
    "#### 3.5.3 멀티라인 문자열 표현법"
   ]
  },
  {
   "cell_type": "code",
   "execution_count": 18,
   "metadata": {},
   "outputs": [
    {
     "name": "stdout",
     "output_type": "stream",
     "text": [
      "이 문자열은\n",
      "멀티라인\n",
      "문자열입니다\n"
     ]
    }
   ],
   "source": [
    "# 따옴표 3개를 이용 (\"\"\" \"\"\")\n",
    "multi_s = \"\"\"이 문자열은\n",
    "멀티라인\n",
    "문자열입니다\"\"\"\n",
    "\n",
    "print(multi_s)"
   ]
  },
  {
   "cell_type": "code",
   "execution_count": 19,
   "metadata": {},
   "outputs": [
    {
     "name": "stdout",
     "output_type": "stream",
     "text": [
      "이 문자열 역시 멀티라인 문자열입니다.한 줄의 마지막에\n",
      "역슬래시를 붙이면\n",
      "줄바꿈이 되지 않습니다.\n",
      "\n"
     ]
    }
   ],
   "source": [
    "# 멀티라인에서 문장의 끝에 역슬래시(\\)가 붙은 문장은 띄어쓰기가 안되고 다음문장이랑 이어짐\n",
    "multi_s2 = '''이 문자열 역시 \\\n",
    "멀티라인 문자열입니다.\\\n",
    "한 줄의 마지막에\n",
    "역슬래시를 붙이면\n",
    "줄바꿈이 \\\n",
    "되지 않습니다.\n",
    "'''\n",
    "\n",
    "print(multi_s2)"
   ]
  },
  {
   "cell_type": "markdown",
   "metadata": {},
   "source": [
    "### 3.6 문자열의 연산"
   ]
  },
  {
   "cell_type": "code",
   "execution_count": 20,
   "metadata": {},
   "outputs": [
    {
     "name": "stdout",
     "output_type": "stream",
     "text": [
      "MikuMikuMiku\n",
      "HatsuneMiku\n"
     ]
    }
   ],
   "source": [
    "# 횟수를 연산할 수 있음\n",
    "diva = \"Miku\"\n",
    "first_sound = \"Hatsune\"\n",
    "\n",
    "print(3*diva)\n",
    "print(first_sound+diva)"
   ]
  },
  {
   "cell_type": "markdown",
   "metadata": {},
   "source": [
    "### 3.7 리스트 "
   ]
  },
  {
   "cell_type": "code",
   "execution_count": 21,
   "metadata": {},
   "outputs": [
    {
     "name": "stdout",
     "output_type": "stream",
     "text": [
      "[1, 2, 3]\n",
      "1\n",
      "['a', 'b', 'c', 'diva']\n",
      "b\n",
      "['miku', 39]\n",
      "miku\n",
      "[[0, 1], [2, 3], [4, 5]]\n",
      "5\n"
     ]
    }
   ],
   "source": [
    "# 리스트 타입엔 제한이 없음 []\n",
    "l1 = [1, 2, 3]\n",
    "l2 = [\"a\", \"b\", \"c\", \"diva\"]\n",
    "l3 = ['miku', 39]\n",
    "l4 = [[0, 1], [2, 3], [4, 5]]\n",
    "\n",
    "print(l1)\n",
    "print(l1[0])\n",
    "print(l2)\n",
    "print(l2[1])\n",
    "print(l3)\n",
    "print(l3[0])\n",
    "print(l4)\n",
    "print(l4[2][1])"
   ]
  },
  {
   "cell_type": "code",
   "execution_count": 22,
   "metadata": {},
   "outputs": [
    {
     "name": "stdout",
     "output_type": "stream",
     "text": [
      "['H', 'a', 't', 's', 'u', 'n', 'e', ' ', 'M', 'i', 'k', 'u']\n",
      "[1, 2, 3, 'a', 'b', 'c', 'diva', 'miku', 39]\n"
     ]
    }
   ],
   "source": [
    "# list()를 사용해 리스트 생성\n",
    "l5 = list(\"Hatsune Miku\")\n",
    "\n",
    "# 위에서 생성한 리스트를 이용해 새로 리스트를 생성합니다.\n",
    "l6 = list(l1+l2+l3)\n",
    "\n",
    "print(l5)\n",
    "print(l6)"
   ]
  },
  {
   "cell_type": "code",
   "execution_count": 23,
   "metadata": {},
   "outputs": [
    {
     "name": "stdout",
     "output_type": "stream",
     "text": [
      "l5 =  [0, 1, 2, 3, 4, 5]\n",
      "l5[-1] =  5\n",
      "l5[-2] =  4\n",
      "l5[-6] =  0\n"
     ]
    }
   ],
   "source": [
    "# 음수 인덱스 사용 가능\n",
    "\n",
    "l5 = [ 0, 1, 2, 3, 4, 5]\n",
    "\n",
    "print(\"l5 = \", l5)\n",
    "print(\"l5[-1] = \", l5[-1])\n",
    "print(\"l5[-2] = \", l5[-2])\n",
    "print(\"l5[-6] = \", l5[-6])"
   ]
  },
  {
   "cell_type": "markdown",
   "metadata": {},
   "source": [
    "#### 3.7.1 리스트 연산"
   ]
  },
  {
   "cell_type": "code",
   "execution_count": 24,
   "metadata": {},
   "outputs": [
    {
     "name": "stdout",
     "output_type": "stream",
     "text": [
      "l1 + l2 =  [1, 2, 3, 4, 5, 6]\n",
      "l1 * 3 = [1, 2, 3, 1, 2, 3, 1, 2, 3]\n"
     ]
    }
   ],
   "source": [
    "# 리스트 자체를 빠르게 다룰 수 있음\n",
    "l1 = [1, 2, 3]\n",
    "l2 = [4, 5, 6]\n",
    "\n",
    "print(\"l1 + l2 = \", l1 + l2)\n",
    "print(\"l1 * 3 =\", l1 * 3)"
   ]
  },
  {
   "cell_type": "markdown",
   "metadata": {},
   "source": [
    "#### 3.7.2 리스트 아이템에 접근하기"
   ]
  },
  {
   "cell_type": "code",
   "execution_count": 25,
   "metadata": {},
   "outputs": [
    {
     "name": "stdout",
     "output_type": "stream",
     "text": [
      "l1 =  [0, 1, 2, 3, 4, 5, 6, 7, 8, 9, 10, 11, 12, 13, 14, 15, 16, 17, 18, 19]\n",
      "l1[9:] =  [9, 10, 11, 12, 13, 14, 15, 16, 17, 18, 19]\n",
      "l1[:15] =  [0, 1, 2, 3, 4, 5, 6, 7, 8, 9, 10, 11, 12, 13, 14]\n",
      "l1[::2] =  [0, 2, 4, 6, 8, 10, 12, 14, 16, 18]\n",
      "l1[::7] =  [0, 7, 14]\n",
      "l1[5::2] =  [5, 7, 9, 11, 13, 15, 17, 19]\n",
      "l1[:17:4] =  [0, 4, 8, 12, 16]\n",
      "l1[7:15:3] =  [7, 10, 13]\n"
     ]
    }
   ],
   "source": [
    "# index를 이용해 데이터에 접근\n",
    "l1 = [0, 1, 2, 3, 4, 5, 6, 7, 8, 9, 10, 11, 12, 13, 14, 15, 16, 17, 18, 19]\n",
    "\n",
    "print(\"l1 = \", l1)\n",
    "\n",
    "# 9번째 인덱스 이후만 가져오기.\n",
    "print(\"l1[9:] = \", l1[9:])\n",
    "\n",
    "# 15번째 인덱스 이전만 가져오기.\n",
    "print(\"l1[:15] = \", l1[:15])\n",
    "\n",
    "# 2번째마다의 아이템을 가져오기.\n",
    "print(\"l1[::2] = \", l1[::2])\n",
    "\n",
    "# 7번째마다의 아이템을 가져오기.\n",
    "print(\"l1[::7] = \", l1[::7])\n",
    "\n",
    "# 5번째부터 시작해서 2번째마다 아이템을 가져오기.\n",
    "print(\"l1[5::2] = \", l1[5::2])\n",
    "\n",
    "# 17번째 이전까지 매 4번째마다 아이템을 가져오기.\n",
    "print(\"l1[:17:4] = \", l1[:17:4])\n",
    "\n",
    "# 7번째부터 시작해서 3번째마다 아이템을 가져오고, 15번째를 전달하지 않기.\n",
    "print(\"l1[7:15:3] = \", l1[7:15:3])"
   ]
  },
  {
   "cell_type": "markdown",
   "metadata": {},
   "source": [
    "#### 3.7.3 문자열을 리스트처럼 다루기"
   ]
  },
  {
   "cell_type": "code",
   "execution_count": 26,
   "metadata": {},
   "outputs": [
    {
     "name": "stdout",
     "output_type": "stream",
     "text": [
      "s1 = Hatsune Miku\n",
      "s1[2] = t\n",
      "s1[8:] = Miku\n",
      "s1[-4:] = Miku\n",
      "s1[:7] = Hatsune\n",
      "s1[::2] = HtueMk\n"
     ]
    }
   ],
   "source": [
    "# 특정 구간을 잘라낼 때 매우 편리\n",
    "s1 = \"Hatsune Miku\"\n",
    "\n",
    "print(\"s1 =\", s1)\n",
    "\n",
    "print(\"s1[2] =\", s1[2])\n",
    "print(\"s1[8:] =\", s1[8:])\n",
    "print(\"s1[-4:] =\", s1[-4:])\n",
    "print(\"s1[:7] =\", s1[:7])\n",
    "print(\"s1[::2] =\", s1[::2])"
   ]
  },
  {
   "cell_type": "markdown",
   "metadata": {},
   "source": [
    "### 3.8 딕셔너리"
   ]
  },
  {
   "cell_type": "code",
   "execution_count": 27,
   "metadata": {},
   "outputs": [
    {
     "name": "stdout",
     "output_type": "stream",
     "text": [
      "Yes! This is True!!!\n",
      "Nope\n",
      "Yes! This is True!!!\n",
      "Nope\n",
      "Miku\n",
      "Hatsune\n",
      "Miku\n",
      "Song Hana\n"
     ]
    }
   ],
   "source": [
    "# {key : value} 형태, key 하나에 2개이상의 value값을 가질 순 없음 (오직 하나의 value만)\n",
    "d1 = {\n",
    "    True:\"Yes! This is True!!!\",\n",
    "    False:\"Nope\",\n",
    "    39:\"Miku\",\n",
    "    39.39:\"Hatsune\",\n",
    "    \"Diva\":\"Song Hana\",\n",
    "    }\n",
    "\n",
    "# True and False\n",
    "print(d1[True])\n",
    "print(d1[False])\n",
    "print(d1[1 > 0]) # True이기 때문에 True에 지정되어 있는 문자열이 반환\n",
    "print(d1[-1 > 0]) # False이기 때문에 False에 지정되어 있는 문자열이 반환\n",
    "\n",
    "# numbers\n",
    "miku = 39\n",
    "print(d1[39])\n",
    "print(d1[39.39])\n",
    "print(d1[miku])\n",
    "\n",
    "# String\n",
    "print(d1[\"Diva\"])"
   ]
  },
  {
   "cell_type": "code",
   "execution_count": 28,
   "metadata": {},
   "outputs": [
    {
     "name": "stdout",
     "output_type": "stream",
     "text": [
      "{'on': 999, 'off': 100, 'l': [1, 2, 3], 's': 'miku'}\n"
     ]
    }
   ],
   "source": [
    "# dict() 메소드를 사용해 딕셔너리 생성\n",
    "# 단, dict()을 사용할 경우는 키 값이 문자열이어야 함\n",
    "\n",
    "d2 = dict(on=999, off=100, l=[1, 2, 3], s=\"miku\")\n",
    "\n",
    "print(d2)"
   ]
  },
  {
   "cell_type": "markdown",
   "metadata": {},
   "source": [
    "### 3.9 집합"
   ]
  },
  {
   "cell_type": "code",
   "execution_count": 29,
   "metadata": {},
   "outputs": [
    {
     "name": "stdout",
     "output_type": "stream",
     "text": [
      "{'e', 't', 'l', 'n', 'u', 'o', 'a', 's', 'h'}\n",
      "{'i', 'e', 'l', 'm', 'u', 'v', 'o', 'k'}\n",
      "{'a', 'g', 'o', 'S', 'n', ' ', 'h'}\n"
     ]
    }
   ],
   "source": [
    "# 딕셔너리에 키값만 있는 형태 \n",
    "# 키는 고유값을 가져야 하며 순서는 상관 없음\n",
    "\n",
    "set1 = {\"h\", \"e\", \"l\", \"l\", \"o\", \"h\", \"a\", \"t\", \"s\", \"u\", \"n\", \"e\"} # 문자열에서 중복된 단어 자동으로 제거\n",
    "set2 = {\"m\", \"i\", \"k\", \"u\", \"l\", \"o\", \"v\", \"e\"} # 문자열에서 중복된 단어 자동으로 제거\n",
    "set3 = set(\"Song hana\") # 문자열에서 중복된 단어 자동으로 제거\n",
    "\n",
    "print(set1)\n",
    "print(set2)\n",
    "print(set3)"
   ]
  },
  {
   "cell_type": "code",
   "execution_count": 30,
   "metadata": {},
   "outputs": [
    {
     "name": "stdout",
     "output_type": "stream",
     "text": [
      "{'e', 'l', 'u', 'o'}\n",
      "{'e', 't', 'l', 'i', 'k', 'm', 'n', 'u', 'v', 'o', 'a', 's', 'h'}\n",
      "{'t', 'a', 'n', 's', 'h'}\n"
     ]
    }
   ],
   "source": [
    "# 교집합\n",
    "print(set1 & set2)\n",
    "\n",
    "# 합집합\n",
    "print(set1 | set2)\n",
    "\n",
    "# 차집합\n",
    "print(set1 - set2)"
   ]
  },
  {
   "cell_type": "markdown",
   "metadata": {},
   "source": [
    "### 3.10 튜플"
   ]
  },
  {
   "cell_type": "code",
   "execution_count": 31,
   "metadata": {},
   "outputs": [
    {
     "name": "stdout",
     "output_type": "stream",
     "text": [
      "(5, 6, 7, 8, 9)\n",
      "5\n",
      "(8, 9)\n",
      "(5, 6)\n"
     ]
    }
   ],
   "source": [
    "# 리스트와 비슷하지만 변경할 수 있는 데이터 타입, ()로 지정\n",
    "t1 = (5, 6, 7, 8, 9)\n",
    "\n",
    "print(t1)\n",
    "print(t1[0])\n",
    "print(t1[3:])\n",
    "print(t1[:2])"
   ]
  },
  {
   "cell_type": "code",
   "execution_count": 32,
   "metadata": {},
   "outputs": [
    {
     "ename": "TypeError",
     "evalue": "'tuple' object does not support item assignment",
     "output_type": "error",
     "traceback": [
      "\u001b[0;31m---------------------------------------------------------------------------\u001b[0m",
      "\u001b[0;31mTypeError\u001b[0m                                 Traceback (most recent call last)",
      "\u001b[0;32m<ipython-input-32-54a9d929f2b8>\u001b[0m in \u001b[0;36m<module>\u001b[0;34m\u001b[0m\n\u001b[1;32m      1\u001b[0m \u001b[0;31m# error발생 (변경 불가능)\u001b[0m\u001b[0;34m\u001b[0m\u001b[0;34m\u001b[0m\u001b[0m\n\u001b[0;32m----> 2\u001b[0;31m \u001b[0mt1\u001b[0m\u001b[0;34m[\u001b[0m\u001b[0;36m0\u001b[0m\u001b[0;34m]\u001b[0m \u001b[0;34m=\u001b[0m \u001b[0;36m1\u001b[0m\u001b[0;34m\u001b[0m\u001b[0m\n\u001b[0m",
      "\u001b[0;31mTypeError\u001b[0m: 'tuple' object does not support item assignment"
     ]
    }
   ],
   "source": [
    "# error발생 (변경 불가능)\n",
    "t1[0] = 1"
   ]
  }
 ],
 "metadata": {
  "kernelspec": {
   "display_name": "Python 3",
   "language": "python",
   "name": "python3"
  },
  "language_info": {
   "codemirror_mode": {
    "name": "ipython",
    "version": 3
   },
   "file_extension": ".py",
   "mimetype": "text/x-python",
   "name": "python",
   "nbconvert_exporter": "python",
   "pygments_lexer": "ipython3",
   "version": "3.6.6"
  }
 },
 "nbformat": 4,
 "nbformat_minor": 2
}

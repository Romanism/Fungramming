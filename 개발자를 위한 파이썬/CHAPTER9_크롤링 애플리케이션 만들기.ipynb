{
 "cells": [
  {
   "cell_type": "markdown",
   "metadata": {},
   "source": [
    "# CHAPTER9 크롤링 애플리케이션 만들기\n",
    "\n",
    "- 스크래피\n",
    "- 설치\n",
    "- 스파이더 만들기\n",
    "- 스파이더 규칙 설정하기\n",
    "- 파서 함수 정의하기\n",
    "- 완성된 스파이더 클래스\n",
    "- 크롤링 GO!"
   ]
  },
  {
   "cell_type": "markdown",
   "metadata": {},
   "source": [
    "---"
   ]
  },
  {
   "cell_type": "markdown",
   "metadata": {},
   "source": [
    "### 9.1 스크래피 (Scrapy)"
   ]
  },
  {
   "cell_type": "markdown",
   "metadata": {},
   "source": [
    ": 크롤링 프레임워크를 의미합니다."
   ]
  },
  {
   "cell_type": "markdown",
   "metadata": {},
   "source": [
    "#### 장점\n",
    "\n",
    "- 스크랩할 항목 유형을 정의하는 클래스를 만들 수 있습니다.\n",
    "- 수집한 데이터를 원하는 대로 편집하는 기능을 제공합니다.\n",
    "- 서버에 연동하기 위해 기능을 확장할 수 있습니다.\n",
    "- 크롤링 결과를 JSON, XML, CSV 등의 형식으로 내보낼 수 있습니다.\n",
    "- 손상된 HTML 파일을 분석할 수 있습니다."
   ]
  },
  {
   "cell_type": "markdown",
   "metadata": {},
   "source": [
    "#### 과정\n",
    "\n",
    "1. 크롤링할 아이템을 설정합니다.\n",
    "2. 실제 크롤링할 스파이더(Spider, 스크래피의 크롤러)를 만듭니다.\n",
    "3. 크롤링할 사이트(시작점)와 크롤링 규칙을 설정합니다.\n",
    "4. 스파이더의 종류에 따른 몇가지 설정을 추가합니다. ex) 크롤링할 URL의 패턴등을 설정\n",
    "5. HTML 문서를 파싱한 후 크롤러가 실행할 작업을 정의합니다.\n",
    "6. 크롤러를 실행합니다."
   ]
  },
  {
   "cell_type": "markdown",
   "metadata": {},
   "source": [
    "### 9.2 설치"
   ]
  },
  {
   "cell_type": "code",
   "execution_count": 1,
   "metadata": {},
   "outputs": [
    {
     "data": {
      "text/plain": [
       "'\\npip install scrapy\\n'"
      ]
     },
     "execution_count": 1,
     "metadata": {},
     "output_type": "execute_result"
    }
   ],
   "source": [
    "\n",
    "pip install scrapy\n"
   ]
  },
  {
   "cell_type": "code",
   "execution_count": null,
   "metadata": {},
   "outputs": [],
   "source": []
  }
 ],
 "metadata": {
  "kernelspec": {
   "display_name": "Python 3",
   "language": "python",
   "name": "python3"
  },
  "language_info": {
   "codemirror_mode": {
    "name": "ipython",
    "version": 3
   },
   "file_extension": ".py",
   "mimetype": "text/x-python",
   "name": "python",
   "nbconvert_exporter": "python",
   "pygments_lexer": "ipython3",
   "version": "3.6.6"
  }
 },
 "nbformat": 4,
 "nbformat_minor": 2
}

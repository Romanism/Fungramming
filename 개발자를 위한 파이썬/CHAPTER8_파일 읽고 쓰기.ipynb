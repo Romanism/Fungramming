{
 "cells": [
  {
   "cell_type": "markdown",
   "metadata": {},
   "source": [
    "# CHAPTER8 파일 읽고 쓰기\n",
    "\n",
    "- 파일 열기와 읽기\n",
    "- 파일 닫기"
   ]
  },
  {
   "cell_type": "markdown",
   "metadata": {},
   "source": [
    "---"
   ]
  },
  {
   "cell_type": "markdown",
   "metadata": {},
   "source": [
    "### 8.1 파일 열기와 읽기"
   ]
  },
  {
   "cell_type": "code",
   "execution_count": 1,
   "metadata": {},
   "outputs": [
    {
     "data": {
      "text/plain": [
       "'Lorem ipsum dolor sit amet, consectetur adipiscing elit. Ut mollis hendrerit faucibus. Nullam mollis iaculis laoreet. Duis bibendum augue ut velit dapibus, quis semper mi pharetra. Nullam eu sapien purus. Morbi gravida magna ut egestas viverra. Suspendisse non viverra ipsum, semper congue metus. Maecenas maximus augue eget sollicitudin interdum.\\n\\nAenean magna odio, ultrices eu euismod eget, bibendum nec metus. Curabitur urna dui, scelerisque vel elit ac, tincidunt ultrices lectus. Vivamus nec commodo nunc. Etiam efficitur malesuada ex, nec pretium turpis cursus et. Cras sed risus non ligula commodo mattis sed at felis. Cras pharetra feugiat nibh ut bibendum. Maecenas nibh diam, porta eget lectus id, efficitur consequat velit. Quisque egestas libero urna, at congue erat fermentum et. Proin pulvinar diam quis turpis condimentum convallis at et purus. Aliquam non eleifend lacus. Phasellus tincidunt felis ac risus feugiat, ac gravida urna convallis. Sed vel ornare magna, vitae luctus ex. Proin odio arcu, tincidunt at turpis ut, eleifend ornare velit. Nulla vel tempor ex. Quisque sed pharetra orci.\\n\\nIn hac habitasse platea dictumst. Phasellus rhoncus malesuada lectus, vitae sollicitudin sem elementum non. Sed sed mauris sed ante sodales faucibus in at lorem. Lorem ipsum dolor sit amet, consectetur adipiscing elit. Quisque sodales erat viverra urna dapibus, eu accumsan libero sodales. Suspendisse tempus mattis placerat. Sed efficitur ornare nulla eget sollicitudin. Morbi lobortis, metus non maximus imperdiet, odio leo efficitur ex, a blandit turpis nunc eget sem. Morbi nec magna vel magna cursus tincidunt.\\n\\nDuis viverra rhoncus lacus id fermentum. Aliquam erat volutpat. Aliquam molestie congue nunc, dictum ornare nibh molestie eu. Curabitur ultricies, leo vitae aliquam dignissim, mauris dui interdum tortor, et hendrerit ligula ante at enim. Phasellus posuere et massa eget lacinia. Curabitur vel bibendum massa. Ut cursus, dui a ullamcorper sodales, nibh risus interdum ex, quis porta libero sem ut turpis. Morbi accumsan dolor erat, at varius nisi ultrices in. Sed molestie sit amet enim quis eleifend. Vivamus hendrerit feugiat volutpat. Vivamus laoreet velit lectus, vel facilisis mauris aliquam a.\\n\\nMorbi feugiat, elit a mollis maximus, neque felis fermentum lacus, eget ullamcorper magna felis vitae tellus. Donec malesuada porttitor arcu, ut tincidunt nisl vestibulum egestas. Nam sapien eros, cursus ac facilisis eu, elementum feugiat elit. Etiam metus odio, congue id pharetra vitae, pharetra sit amet mi. Nunc ultrices lectus quis dictum maximus. Mauris porta enim sed pharetra dignissim. Morbi a mollis turpis. Phasellus est tortor, maximus id sem eu, fermentum ornare ipsum. Phasellus ut elementum sapien.'"
      ]
     },
     "execution_count": 1,
     "metadata": {},
     "output_type": "execute_result"
    }
   ],
   "source": [
    "lorem = open('examples/lorem.txt', \"r\")\n",
    "lorem.read() # 파일 읽기 (전체)"
   ]
  },
  {
   "cell_type": "code",
   "execution_count": 2,
   "metadata": {},
   "outputs": [
    {
     "data": {
      "text/plain": [
       "'Lorem ipsum dolor sit amet, consectetur adipiscing elit. Ut mollis hendrerit faucibus. Nullam mollis iaculis laoreet. Duis bibendum augue ut velit dapibus, quis semper mi pharetra. Nullam eu sapien purus. Morbi gravida magna ut egestas viverra. Suspendisse non viverra ipsum, semper congue metus. Maecenas maximus augue eget sollicitudin interdum.\\n'"
      ]
     },
     "execution_count": 2,
     "metadata": {},
     "output_type": "execute_result"
    }
   ],
   "source": [
    "lorem = open('examples/lorem.txt', \"r\")\n",
    "lorem.readline() # 파일 읽기 (한 줄)"
   ]
  },
  {
   "cell_type": "code",
   "execution_count": 3,
   "metadata": {},
   "outputs": [
    {
     "data": {
      "text/plain": [
       "['Lorem ipsum dolor sit amet, consectetur adipiscing elit. Ut mollis hendrerit faucibus. Nullam mollis iaculis laoreet. Duis bibendum augue ut velit dapibus, quis semper mi pharetra. Nullam eu sapien purus. Morbi gravida magna ut egestas viverra. Suspendisse non viverra ipsum, semper congue metus. Maecenas maximus augue eget sollicitudin interdum.\\n',\n",
       " '\\n',\n",
       " 'Aenean magna odio, ultrices eu euismod eget, bibendum nec metus. Curabitur urna dui, scelerisque vel elit ac, tincidunt ultrices lectus. Vivamus nec commodo nunc. Etiam efficitur malesuada ex, nec pretium turpis cursus et. Cras sed risus non ligula commodo mattis sed at felis. Cras pharetra feugiat nibh ut bibendum. Maecenas nibh diam, porta eget lectus id, efficitur consequat velit. Quisque egestas libero urna, at congue erat fermentum et. Proin pulvinar diam quis turpis condimentum convallis at et purus. Aliquam non eleifend lacus. Phasellus tincidunt felis ac risus feugiat, ac gravida urna convallis. Sed vel ornare magna, vitae luctus ex. Proin odio arcu, tincidunt at turpis ut, eleifend ornare velit. Nulla vel tempor ex. Quisque sed pharetra orci.\\n',\n",
       " '\\n',\n",
       " 'In hac habitasse platea dictumst. Phasellus rhoncus malesuada lectus, vitae sollicitudin sem elementum non. Sed sed mauris sed ante sodales faucibus in at lorem. Lorem ipsum dolor sit amet, consectetur adipiscing elit. Quisque sodales erat viverra urna dapibus, eu accumsan libero sodales. Suspendisse tempus mattis placerat. Sed efficitur ornare nulla eget sollicitudin. Morbi lobortis, metus non maximus imperdiet, odio leo efficitur ex, a blandit turpis nunc eget sem. Morbi nec magna vel magna cursus tincidunt.\\n',\n",
       " '\\n',\n",
       " 'Duis viverra rhoncus lacus id fermentum. Aliquam erat volutpat. Aliquam molestie congue nunc, dictum ornare nibh molestie eu. Curabitur ultricies, leo vitae aliquam dignissim, mauris dui interdum tortor, et hendrerit ligula ante at enim. Phasellus posuere et massa eget lacinia. Curabitur vel bibendum massa. Ut cursus, dui a ullamcorper sodales, nibh risus interdum ex, quis porta libero sem ut turpis. Morbi accumsan dolor erat, at varius nisi ultrices in. Sed molestie sit amet enim quis eleifend. Vivamus hendrerit feugiat volutpat. Vivamus laoreet velit lectus, vel facilisis mauris aliquam a.\\n',\n",
       " '\\n',\n",
       " 'Morbi feugiat, elit a mollis maximus, neque felis fermentum lacus, eget ullamcorper magna felis vitae tellus. Donec malesuada porttitor arcu, ut tincidunt nisl vestibulum egestas. Nam sapien eros, cursus ac facilisis eu, elementum feugiat elit. Etiam metus odio, congue id pharetra vitae, pharetra sit amet mi. Nunc ultrices lectus quis dictum maximus. Mauris porta enim sed pharetra dignissim. Morbi a mollis turpis. Phasellus est tortor, maximus id sem eu, fermentum ornare ipsum. Phasellus ut elementum sapien.']"
      ]
     },
     "execution_count": 3,
     "metadata": {},
     "output_type": "execute_result"
    }
   ],
   "source": [
    "lorem = open('examples/lorem.txt')\n",
    "text = lorem.readlines() # 전부 읽고 행마다 리스트로 가져오기\n",
    "text"
   ]
  },
  {
   "cell_type": "markdown",
   "metadata": {},
   "source": [
    "### 8.2 파일 닫기"
   ]
  },
  {
   "cell_type": "code",
   "execution_count": 4,
   "metadata": {},
   "outputs": [],
   "source": [
    "lorem.close()"
   ]
  }
 ],
 "metadata": {
  "kernelspec": {
   "display_name": "Python 3",
   "language": "python",
   "name": "python3"
  },
  "language_info": {
   "codemirror_mode": {
    "name": "ipython",
    "version": 3
   },
   "file_extension": ".py",
   "mimetype": "text/x-python",
   "name": "python",
   "nbconvert_exporter": "python",
   "pygments_lexer": "ipython3",
   "version": "3.6.5"
  }
 },
 "nbformat": 4,
 "nbformat_minor": 2
}

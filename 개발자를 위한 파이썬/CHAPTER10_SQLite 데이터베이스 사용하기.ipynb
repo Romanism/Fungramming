{
 "cells": [
  {
   "cell_type": "markdown",
   "metadata": {},
   "source": [
    "# CHAPTER10 SQLite 데이터베이스 사용하기\n",
    "\n",
    "- SQLite\n",
    "- 데이터베이스 연결하기\n",
    "- 테이블 생성하기\n",
    "- 데이터 삽입\n",
    "- 데이터 선택하기\n",
    "- 기존 데이터 갱신하기\n",
    "- 데이터 삭제하기"
   ]
  },
  {
   "cell_type": "markdown",
   "metadata": {},
   "source": [
    "---"
   ]
  },
  {
   "cell_type": "markdown",
   "metadata": {},
   "source": [
    "### 10.0 들어가기전에 정리\n",
    "\n",
    "- 쉽게 말해 파이썬을 이용해 SQL에 접근하는 것입니다.\n",
    "\n",
    "\n",
    "- 사용되는 원리\n",
    "    - sqlite3를 호출합니다.\n",
    "    - connect를 이용해 데이터베이스에 연결합니다.\n",
    "    - cursor를 이용해 SQL구문을 사용해 데이터베이스를 관리합니다."
   ]
  },
  {
   "cell_type": "markdown",
   "metadata": {},
   "source": [
    "### 10.1 SQLite"
   ]
  },
  {
   "cell_type": "markdown",
   "metadata": {},
   "source": [
    "- SQLite는 디스크 파일 기반의 데이터베이스입니다.\n",
    "- 별도의 데이터베이스를 준비해야 할 필요가 없어 데이터베이스를 제대로 구축하기 전 프로토타이핑하기에 매우 좋습니다.\n",
    "- 파일뿐 아니라 메모리에 데이터베이스를 생성해서 사용할 수도 있습니다."
   ]
  },
  {
   "cell_type": "markdown",
   "metadata": {},
   "source": [
    "### 10.2 데이터베이스 연결하기"
   ]
  },
  {
   "cell_type": "markdown",
   "metadata": {},
   "source": [
    "- connect( )로 연결하고 cursor( )로 데이터베이스를 동작시켜서 작업하는 형식입니다."
   ]
  },
  {
   "cell_type": "code",
   "execution_count": 1,
   "metadata": {},
   "outputs": [],
   "source": [
    "import sqlite3\n",
    "\n",
    "# 데이터베이스 파일이 저장될 경로와 파일 이름을 써서 데이터베이스에 연결\n",
    "con = sqlite3.connect(\"examples/db.sqlite\")\n",
    "\n",
    "# 유니코드 인코딩 문제가 발생하면 해당 코드의 주석을 해제하고 실행합니다.\n",
    "con.text_factory = str\n",
    "\n",
    "# 메모리에서 직접 데이터베이스를 이용합니다.\n",
    "con = sqlite3.connect(\":memory:\")\n",
    "\n",
    "# 데이터베이스를 동작하기 위한 Cursor 객체를 생성합니다.\n",
    "# 데이터베이스를 사용하기 위한 마지막 준비입니다.\n",
    "cur = con.cursor()"
   ]
  },
  {
   "cell_type": "markdown",
   "metadata": {},
   "source": [
    "### 10.3 테이블 생성하기 (CREATE)"
   ]
  },
  {
   "cell_type": "markdown",
   "metadata": {},
   "source": [
    "- 쿼리문을 사용하기 위해 Cursor클래스의 execute( )를 사용합니다."
   ]
  },
  {
   "cell_type": "code",
   "execution_count": 2,
   "metadata": {},
   "outputs": [],
   "source": [
    "cur.execute(\"\"\"CREATE TABLE hanbit_books(\n",
    "               title varchar(100),\n",
    "               author varchar(100),\n",
    "               translator varchar(100),\n",
    "               pub_date date,\n",
    "               isbn varchar(100))\"\"\")\n",
    "\n",
    "# commit을 안해도 상관없지만 명시해 주는것이 혹시모를 에러를 방지할 수 있습니다.\n",
    "con.commit()"
   ]
  },
  {
   "cell_type": "markdown",
   "metadata": {},
   "source": [
    "### 10.4 데이터 삽입 (INSERT)"
   ]
  },
  {
   "cell_type": "code",
   "execution_count": 3,
   "metadata": {
    "scrolled": true
   },
   "outputs": [
    {
     "data": {
      "text/plain": [
       "<sqlite3.Cursor at 0x10ebedb90>"
      ]
     },
     "execution_count": 3,
     "metadata": {},
     "output_type": "execute_result"
    }
   ],
   "source": [
    "# 테이블에 데이터 넣기\n",
    "cur.execute(\"INSERT INTO hanbit_books values (?, ?, ?, ?, ?)\",\n",
    "            # 리스트 내부의 아이템 순서대로 채워집니다.\n",
    "           (\"책 이름\", \"저자 이름\", \"번역자 이름\", \"2016-08-22\", \"9788968480011\"))"
   ]
  },
  {
   "cell_type": "code",
   "execution_count": 4,
   "metadata": {},
   "outputs": [
    {
     "data": {
      "text/plain": [
       "<sqlite3.Cursor at 0x10ebedb90>"
      ]
     },
     "execution_count": 4,
     "metadata": {},
     "output_type": "execute_result"
    }
   ],
   "source": [
    "# 이름 있는 파라미터 사용하기\n",
    "query_str = \"insert into hanbit_books values (:title, :title, :title, :pub_date, :isbn)\"\n",
    "params = {\n",
    "    \"title\" : \"책 이름\",\n",
    "    \"pub_date\" : \"2017-10-12\",\n",
    "    \"isbn\" : 9788968480022\n",
    "}\n",
    "\n",
    "cur.execute(query_str, params)"
   ]
  },
  {
   "cell_type": "markdown",
   "metadata": {},
   "source": [
    "#### 10.4.1 여러개의 데이터 넣기\n",
    "\n",
    ": 대량의 데이터를 한번에 넣기 위해서 executemany( )를 사용합니다."
   ]
  },
  {
   "cell_type": "code",
   "execution_count": 5,
   "metadata": {},
   "outputs": [
    {
     "name": "stdout",
     "output_type": "stream",
     "text": [
      "['리얼 블라디보스톡  PLUS 우수리스크 [2019~2020년 최신판]', '강한나', '', '2018-10-22', '9791188007196']\n",
      "['처음 시작하는 R 데이터 분석', '강전희 , 엄동란', '', '2018-10-05', '9791162241202']\n",
      "['SWedu, 앱 인벤터', '이종원', '', '2018-06-04', '9791156643968']\n",
      "['이것이 C#이다', '박상현', '', '2018-07-01', '9791162240861']\n",
      "['머신러닝 실무 프로젝트', '아리가 미치아키(有賀 康顕) , 나카야마 신타(中山 心太) , 니시바야시 다카시(西林 孝)', '심효섭', '2018-06-05', '9791162240816']\n"
     ]
    }
   ],
   "source": [
    "import csv\n",
    "\n",
    "# csv 파일을 열겠습니다.\n",
    "csv_file = open(\"examples/book_list.csv\")\n",
    "\n",
    "# csv리더로 읽겠습니다.\n",
    "csv_reader = csv.reader(csv_file)\n",
    "\n",
    "# csv파일을 리스트 형식으로 바꿉니다.\n",
    "book_list = list(csv_reader)\n",
    "\n",
    "# csv header를 제거합니다.\n",
    "book_list = book_list[1:]\n",
    "\n",
    "# 최초 크롤링할 때 있었던 저자 혹은 번역자 데이터의 앞뒤 공백을 제거합니다.\n",
    "for item in book_list:\n",
    "    item[1] = item[1].strip()\n",
    "    item[2] = item[2].strip()\n",
    "    \n",
    "# 제대로 되었는지 출력해보겠습니다.\n",
    "print(book_list[0])\n",
    "print(book_list[1])\n",
    "print(book_list[2])\n",
    "print(book_list[3])\n",
    "print(book_list[4])"
   ]
  },
  {
   "cell_type": "code",
   "execution_count": 6,
   "metadata": {},
   "outputs": [],
   "source": [
    "# 데이터베이스에 book_list 넣겠습니다.\n",
    "cur.executemany(\"insert into hanbit_books values (?, ?, ?, ?, ?)\", book_list)\n",
    "\n",
    "# 데이터를 넣었으면 확정하기 위해 commit합니다.\n",
    "con.commit()"
   ]
  },
  {
   "cell_type": "markdown",
   "metadata": {},
   "source": [
    "### 10.5 데이터 선택하기 (SELECT)"
   ]
  },
  {
   "cell_type": "code",
   "execution_count": 7,
   "metadata": {},
   "outputs": [
    {
     "name": "stdout",
     "output_type": "stream",
     "text": [
      "('리얼 블라디보스톡  PLUS 우수리스크 [2019~2020년 최신판]', '강한나', '', '2018-10-22', '9791188007196')\n"
     ]
    }
   ],
   "source": [
    "# 쿼리문을 사용해서 데이터 추출하겠습니다.\n",
    "cur.execute(\"SELECT * FROM hanbit_books WHERE author = ?\", (\"강한나\",))\n",
    "print(cur.fetchone())"
   ]
  },
  {
   "cell_type": "code",
   "execution_count": 8,
   "metadata": {},
   "outputs": [
    {
     "data": {
      "text/plain": [
       "<sqlite3.Cursor at 0x109aedc70>"
      ]
     },
     "execution_count": 8,
     "metadata": {},
     "output_type": "execute_result"
    }
   ],
   "source": [
    "# 튜플을 이용한 데이터를 선택하겠습니다.\n",
    "query_str = \"SELECT * FROM hanbit_books WHERE author = :name\"\n",
    "params = {\"name\" : \"강한나\"}\n",
    "\n",
    "cur.execute(query_str, params)"
   ]
  },
  {
   "cell_type": "code",
   "execution_count": 9,
   "metadata": {},
   "outputs": [
    {
     "name": "stdout",
     "output_type": "stream",
     "text": [
      "('리얼 블라디보스톡  PLUS 우수리스크 [2019~2020년 최신판]', '강한나', '', '2018-10-22', '9791188007196')\n"
     ]
    }
   ],
   "source": [
    "# SELECT 쿼리문 실행 결과입니다.\n",
    "result = list(cur.fetchall())\n",
    "\n",
    "for row in result:\n",
    "    print(row)"
   ]
  },
  {
   "cell_type": "markdown",
   "metadata": {},
   "source": [
    "### 10.6 기존 데이터 갱신하기 (UPDATE)"
   ]
  },
  {
   "cell_type": "code",
   "execution_count": 10,
   "metadata": {},
   "outputs": [
    {
     "data": {
      "text/plain": [
       "<sqlite3.Cursor at 0x109aedc70>"
      ]
     },
     "execution_count": 10,
     "metadata": {},
     "output_type": "execute_result"
    }
   ],
   "source": [
    "# author를 찾아서 isbn을 업데이트 하는 쿼리문입니다.\n",
    "query_str = \"UPDATE hanbit_books SET isbn = :isbn WHERE author = :name\"\n",
    "params = {\n",
    "    # name이 강한나인 데이터의 isbn을 9999999999999로 수정하겠습니다.\n",
    "    \"isbn\" : 9999999999999,\n",
    "    \"name\" : \"강한나\"}\n",
    "\n",
    "cur.execute(query_str, params)"
   ]
  },
  {
   "cell_type": "code",
   "execution_count": 11,
   "metadata": {},
   "outputs": [
    {
     "name": "stdout",
     "output_type": "stream",
     "text": [
      "('리얼 블라디보스톡  PLUS 우수리스크 [2019~2020년 최신판]', '강한나', '', '2018-10-22', '9999999999999')\n"
     ]
    }
   ],
   "source": [
    "# 갱신되었는지 확인하겠습니다.\n",
    "cur.execute(\"SELECT * FROM hanbit_books WHERE author = ?\", (\"강한나\",))\n",
    "print(cur.fetchone())"
   ]
  },
  {
   "cell_type": "markdown",
   "metadata": {},
   "source": [
    "### 10.7 데이터 삭제하기 (DELETE)"
   ]
  },
  {
   "cell_type": "code",
   "execution_count": 12,
   "metadata": {},
   "outputs": [
    {
     "name": "stdout",
     "output_type": "stream",
     "text": [
      "None\n"
     ]
    }
   ],
   "source": [
    "# DELETE구문을 이용하겠습니다.\n",
    "cur.execute(\"DELETE FROM hanbit_books WHERE author = ?\", (\"강한나\",))\n",
    "print(cur.fetchone())"
   ]
  },
  {
   "cell_type": "code",
   "execution_count": 13,
   "metadata": {},
   "outputs": [],
   "source": [
    "# 테이블을 삭제하겠습니다.\n",
    "cur.execute(\"DROP TABLE hanbit_books\")\n",
    "\n",
    "# 데이터베이스 연결을 종료하겠습니다.\n",
    "con.close()"
   ]
  }
 ],
 "metadata": {
  "kernelspec": {
   "display_name": "Python 3",
   "language": "python",
   "name": "python3"
  },
  "language_info": {
   "codemirror_mode": {
    "name": "ipython",
    "version": 3
   },
   "file_extension": ".py",
   "mimetype": "text/x-python",
   "name": "python",
   "nbconvert_exporter": "python",
   "pygments_lexer": "ipython3",
   "version": "3.6.5"
  }
 },
 "nbformat": 4,
 "nbformat_minor": 2
}

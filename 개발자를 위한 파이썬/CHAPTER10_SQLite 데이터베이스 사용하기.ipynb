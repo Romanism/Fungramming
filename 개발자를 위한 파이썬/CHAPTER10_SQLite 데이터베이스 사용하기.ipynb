{
 "cells": [
  {
   "cell_type": "markdown",
   "metadata": {},
   "source": [
    "# CHAPTER10 SQLite 데이터베이스 사용하기\n",
    "\n",
    "- SQLite\n",
    "- 데이터베이스 연결하기\n",
    "- 테이블 생성하기\n",
    "- 데이터 삽입\n",
    "- 데이터 선택하기\n",
    "- 기존 데이터 갱신하기\n",
    "- 데이터 삭제하기"
   ]
  },
  {
   "cell_type": "markdown",
   "metadata": {},
   "source": [
    "---"
   ]
  },
  {
   "cell_type": "markdown",
   "metadata": {},
   "source": [
    "### 10.1 SQLite"
   ]
  },
  {
   "cell_type": "markdown",
   "metadata": {},
   "source": [
    "- SQLite는 디스크 파일 기반의 데이터베이스입니다.\n",
    "- 별도의 데이터베이스를 준비해야 할 필요가 없어 데이터베이스를 제대로 구축하기 전 프로토타이핑하기에 매우 좋습니다.\n",
    "- 파일뿐 아니라 메모리에 데이터베이스를 생성해서 사용할 수도 있습니다."
   ]
  },
  {
   "cell_type": "markdown",
   "metadata": {},
   "source": [
    "### 10.2 데이터베이스 연결하기"
   ]
  },
  {
   "cell_type": "markdown",
   "metadata": {},
   "source": [
    "- connect( )로 연결하고 cursor( )로 데이터베이스를 동작시켜서 작업하는 형식입니다."
   ]
  },
  {
   "cell_type": "code",
   "execution_count": 8,
   "metadata": {},
   "outputs": [],
   "source": [
    "import sqlite3\n",
    "\n",
    "# 데이터베이스 파일이 저장될 경로와 파일 이름을 써서 데이터베이스에 연결\n",
    "con = sqlite3.connect(\"examples/db.sqlite\")\n",
    "\n",
    "# 유니코드 인코딩 문제가 발생하면 해당 코드의 주석을 해제하고 실행합니다.\n",
    "con.text_factory = str\n",
    "\n",
    "# 메모리에서 직접 데이터베이스를 이용합니다.\n",
    "con = sqlite3.connect(\":memory:\")\n",
    "\n",
    "# 데이터베이스를 동작하기 위한 Cursor 객체를 생성합니다.\n",
    "# 데이터베이스를 사용하기 위한 마지막 준비입니다.\n",
    "cur = con.cursor()"
   ]
  },
  {
   "cell_type": "markdown",
   "metadata": {},
   "source": [
    "### 10.3 테이블 생성하기"
   ]
  },
  {
   "cell_type": "markdown",
   "metadata": {},
   "source": [
    "- 쿼리문을 사용하기 위해 Cursor클래스의 execute( )를 사용합니다."
   ]
  },
  {
   "cell_type": "code",
   "execution_count": 9,
   "metadata": {},
   "outputs": [],
   "source": [
    "cur.execute(\"\"\"create table hanbit_books(\n",
    "               title varchar(100),\n",
    "               author varchar(100),\n",
    "               translator varchar(100),\n",
    "               pub_date date,\n",
    "               isbn varchar(100))\"\"\")\n",
    "\n",
    "# commit을 안해도 상관없지만 명시해 주는것이 혹시모를 에러를 방지할 수 있습니다.\n",
    "con.commit()"
   ]
  },
  {
   "cell_type": "markdown",
   "metadata": {},
   "source": [
    "### 10.4 데이터 삽입"
   ]
  },
  {
   "cell_type": "code",
   "execution_count": 10,
   "metadata": {},
   "outputs": [
    {
     "data": {
      "text/plain": [
       "<sqlite3.Cursor at 0x106d04d50>"
      ]
     },
     "execution_count": 10,
     "metadata": {},
     "output_type": "execute_result"
    }
   ],
   "source": [
    "# 테이블에 데이터 넣기\n",
    "cur.execute(\"insert into hanbit_books values (?, ?, ?, ?, ?)\",\n",
    "            # 리스트 내부의 아이템 순서대로 채워집니다.\n",
    "           (\"책 이름\", \"저자 이름\", \"번역자 이름\", \"2016-08-22\", \"9788968480011\"))"
   ]
  },
  {
   "cell_type": "code",
   "execution_count": 11,
   "metadata": {},
   "outputs": [
    {
     "data": {
      "text/plain": [
       "<sqlite3.Cursor at 0x106d04d50>"
      ]
     },
     "execution_count": 11,
     "metadata": {},
     "output_type": "execute_result"
    }
   ],
   "source": [
    "# 이름 있는 파라미터 사용하기\n",
    "query_str = \"insert into hanbit_books values (:title, :title, :title, :pub_date, :isbn)\"\n",
    "params = {\n",
    "    \"title\" : \"책 이름\",\n",
    "    \"pub_date\" : \"2017-10-12\",\n",
    "    \"isbn\" : 9788968480022\n",
    "}\n",
    "\n",
    "cur.execute(query_str, params)"
   ]
  },
  {
   "cell_type": "markdown",
   "metadata": {},
   "source": [
    "#### 10.4.1 여러개의 데이터 넣기\n",
    "\n",
    ": 대량의 데이터를 한번에 넣기 위해서 executemany( )를 사용합니다."
   ]
  },
  {
   "cell_type": "code",
   "execution_count": null,
   "metadata": {},
   "outputs": [],
   "source": []
  }
 ],
 "metadata": {
  "kernelspec": {
   "display_name": "Python 3",
   "language": "python",
   "name": "python3"
  },
  "language_info": {
   "codemirror_mode": {
    "name": "ipython",
    "version": 3
   },
   "file_extension": ".py",
   "mimetype": "text/x-python",
   "name": "python",
   "nbconvert_exporter": "python",
   "pygments_lexer": "ipython3",
   "version": "3.6.5"
  }
 },
 "nbformat": 4,
 "nbformat_minor": 2
}

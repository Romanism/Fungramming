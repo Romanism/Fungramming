{
 "cells": [
  {
   "cell_type": "markdown",
   "metadata": {},
   "source": [
    "# CHAPTER6 객체지향과 클래스\n",
    "\n",
    "- 클래스\n",
    "- 클래스 변수와 인스턴스 변수\n",
    "- 클래스 메서드\n",
    "- 상속\n",
    "- 덕 타이핑"
   ]
  },
  {
   "cell_type": "markdown",
   "metadata": {},
   "source": [
    "---"
   ]
  },
  {
   "cell_type": "markdown",
   "metadata": {},
   "source": [
    "### 6.1 클래스\n",
    "\n",
    ": 서로 연관있는 변수들과 함수들을 이쁘게 묶어두고 이름을 붙인 것"
   ]
  },
  {
   "cell_type": "code",
   "execution_count": 1,
   "metadata": {},
   "outputs": [],
   "source": [
    "# 클래스는 일반적으로 첫 글자를 대문자로 표시\n",
    "class MyFirstClass:\n",
    "    pass"
   ]
  },
  {
   "cell_type": "markdown",
   "metadata": {},
   "source": [
    "### 6.2 클래스 변수와 인스턴스 변수"
   ]
  },
  {
   "cell_type": "markdown",
   "metadata": {},
   "source": [
    "- 클래스 변수 : 해당 클래스의 인스턴스 모두가 공유하는 변수\n",
    "- 인스턴스 변수 : 클래스로 생성한 인스턴스만의 변수"
   ]
  },
  {
   "cell_type": "code",
   "execution_count": 2,
   "metadata": {},
   "outputs": [],
   "source": [
    "class Diva:\n",
    "    \n",
    "    # 클래스 변수\n",
    "    version = 'v3'\n",
    "    \n",
    "    # 인스턴스 변수\n",
    "    def __init__(self, name = 'Diva'):\n",
    "        \n",
    "        # __init__ : 파이썬 클래스의 생성자 (constructor)\n",
    "        # __init__은 self를 파라미터로 전달하는데 이는 __init__()이 실행되는 시점에서 이미 인스턴스의 생성이 끝났다는 것을 암시\n",
    "        # 덕분에 self를 이용해 인스턴스 변수를 설정할 수 있음\n",
    "        \n",
    "        self.name = name"
   ]
  },
  {
   "cell_type": "code",
   "execution_count": 3,
   "metadata": {},
   "outputs": [
    {
     "name": "stdout",
     "output_type": "stream",
     "text": [
      "====\n",
      "Name:  Diva\n",
      "Version:  v3\n",
      "====\n",
      "Name:  Miku\n",
      "Version:  v3\n",
      "====\n",
      "Name:  Hana\n",
      "Version:  v3\n"
     ]
    }
   ],
   "source": [
    "# Diva class에 인스턴스를 받음\n",
    "diva1 = Diva()\n",
    "diva2 = Diva(\"Miku\")\n",
    "diva3 = Diva(\"Hana\")\n",
    "\n",
    "def print_diva_info(diva):\n",
    "    print(\"====\")\n",
    "    print(\"Name: \", diva.name)\n",
    "    print(\"Version: \", diva.version)\n",
    "\n",
    "# 받은 인스턴스를 print_diva_info 함수에 적용 \n",
    "print_diva_info(diva1)\n",
    "print_diva_info(diva2)\n",
    "print_diva_info(diva3)"
   ]
  },
  {
   "cell_type": "markdown",
   "metadata": {},
   "source": [
    "### 6.3 클래스 메서드\n",
    "\n",
    ": 클래스 내부의 함수를 관례적으로 메서드 (Method)라고 함"
   ]
  },
  {
   "cell_type": "code",
   "execution_count": 4,
   "metadata": {},
   "outputs": [],
   "source": [
    "# 클래스 추가\n",
    "class Diva:\n",
    "    # 클래스 변수\n",
    "    version = \"v3\"\n",
    "\n",
    "    # 클래스 메서드의 첫번째 파라미터는 언제나 클래스 자신을 참조하는 변수인 self로 지정해야 합니다.\n",
    "    def __init__(self, name = \"Diva\"):\n",
    "        # 인스턴스 변수\n",
    "        self.name = name\n",
    "\n",
    "    def song(self, title = \"song\"):\n",
    "        print(self.name + \" sing the \" + title)\n",
    "\n",
    "    def medley(self):\n",
    "        self.song()\n",
    "        self.song(\"second song\")\n",
    "        self.song(\"third song\")"
   ]
  },
  {
   "cell_type": "code",
   "execution_count": 5,
   "metadata": {},
   "outputs": [
    {
     "name": "stdout",
     "output_type": "stream",
     "text": [
      "Hana sing the song\n",
      "Hana sing the Wolrd is Mine\n",
      "Hana sing the song\n",
      "Hana sing the second song\n",
      "Hana sing the third song\n"
     ]
    }
   ],
   "source": [
    "# 클래스 적용\n",
    "voice_diva = Diva(\"Hana\")\n",
    "voice_diva.song()\n",
    "voice_diva.song(\"Wolrd is Mine\")\n",
    "voice_diva.medley()"
   ]
  },
  {
   "cell_type": "markdown",
   "metadata": {},
   "source": [
    "### 6.4 상속"
   ]
  },
  {
   "cell_type": "code",
   "execution_count": 6,
   "metadata": {},
   "outputs": [],
   "source": [
    "# 클래스 괄호에 클래스 이름을 넣으면 해당 클래스를 상속받을 수 있습니다.\n",
    "class Miku(Diva):\n",
    "    # Diva 클래스를 상속받음\n",
    "    def __init__(self, module=\"class uniform\"):\n",
    "        self.module = module\n",
    "        # 수퍼 클래스를 초기화하지 않으면\n",
    "        # 수퍼 클래스에서 초기화 & 할당되는 name 변수를 사용할 수 없습니다.\n",
    "        super().__init__(\"miku\")\n",
    "\n",
    "    def dance(self):\n",
    "        print(\"Dancing!\")"
   ]
  },
  {
   "cell_type": "markdown",
   "metadata": {},
   "source": [
    "### 6.5 덕 타이핑"
   ]
  },
  {
   "cell_type": "code",
   "execution_count": 7,
   "metadata": {},
   "outputs": [
    {
     "name": "stdout",
     "output_type": "stream",
     "text": [
      "Nya~\n",
      "Mung\n"
     ]
    }
   ],
   "source": [
    "# 자바에 있는 인터페이스 등의 개념 없이도 해당 이름의 변수, 메서드가 있으면 그냥 호출 할 수 있다는 의미\n",
    "class Cat:\n",
    "    def sound(self):\n",
    "        print(\"Nya~\")\n",
    "\n",
    "class Dog:\n",
    "    def sound(self):\n",
    "        print(\"Mung\")\n",
    "\n",
    "cat = Cat()\n",
    "dog = Dog()\n",
    "\n",
    "animals = [cat, dog]\n",
    "\n",
    "for animal in animals:\n",
    "    animal.sound()"
   ]
  }
 ],
 "metadata": {
  "kernelspec": {
   "display_name": "Python 3",
   "language": "python",
   "name": "python3"
  },
  "language_info": {
   "codemirror_mode": {
    "name": "ipython",
    "version": 3
   },
   "file_extension": ".py",
   "mimetype": "text/x-python",
   "name": "python",
   "nbconvert_exporter": "python",
   "pygments_lexer": "ipython3",
   "version": "3.6.5"
  }
 },
 "nbformat": 4,
 "nbformat_minor": 2
}

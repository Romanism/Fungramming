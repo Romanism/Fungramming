{
 "cells": [
  {
   "cell_type": "markdown",
   "metadata": {},
   "source": [
    "# CHAPTER4 흐름제어와 예외 처리\n",
    "\n",
    "- if 문\n",
    "- and, or, not\n",
    "- while 문\n",
    "- for 문\n",
    "- break\n",
    "- continue\n",
    "- pass"
   ]
  },
  {
   "cell_type": "markdown",
   "metadata": {},
   "source": [
    "---"
   ]
  },
  {
   "cell_type": "markdown",
   "metadata": {},
   "source": [
    "### 4.0  if vs while\n",
    "\n",
    "- if : 조건이 맞는 블록을 한번 실행\n",
    "- while : 조건이 일치할때 까지 계속 실행 (조건이 안맞으면 멈춤)"
   ]
  },
  {
   "cell_type": "markdown",
   "metadata": {},
   "source": [
    "### 4.1 if 문"
   ]
  },
  {
   "cell_type": "code",
   "execution_count": 1,
   "metadata": {},
   "outputs": [
    {
     "name": "stdout",
     "output_type": "stream",
     "text": [
      "Second elif block\n",
      "Hello Miku!\n"
     ]
    }
   ],
   "source": [
    "# 조건 표현식은 True나 False를 반환할 수 있는 표현식이면 무엇이든 괜찮습니다.\n",
    "number = 39\n",
    "\n",
    "if number == 13:\n",
    "    # 실행되지 않는다.\n",
    "    print(\"First if block\")\n",
    "elif number == 39:\n",
    "    # 이 블록이 실행된다.\n",
    "    print(\"Second elif block\")\n",
    "    print(\"Hello Miku!\")\n",
    "else :\n",
    "    # 실행되지 않는다.\n",
    "    print(\"oh...\")"
   ]
  },
  {
   "cell_type": "markdown",
   "metadata": {},
   "source": [
    "### 4.2 and, or, not"
   ]
  },
  {
   "cell_type": "markdown",
   "metadata": {},
   "source": [
    "#### 4.2.1  and"
   ]
  },
  {
   "cell_type": "code",
   "execution_count": 2,
   "metadata": {},
   "outputs": [
    {
     "name": "stdout",
     "output_type": "stream",
     "text": [
      "You are digital diva miku!\n"
     ]
    }
   ],
   "source": [
    "# and는 모든 조건이 참일 경우에만 참입니다.\n",
    "name = \"miku\"\n",
    "number = 39\n",
    "\n",
    "if name == \"miku\" and number == 39:\n",
    "    print(\"You are digital diva miku!\")\n",
    "else:\n",
    "    print(\"D.va?\")"
   ]
  },
  {
   "cell_type": "markdown",
   "metadata": {},
   "source": [
    "#### 4.2.2 or"
   ]
  },
  {
   "cell_type": "code",
   "execution_count": 3,
   "metadata": {},
   "outputs": [
    {
     "name": "stdout",
     "output_type": "stream",
     "text": [
      "You must be D.va !!\n",
      "Welcome back to overwatch\n"
     ]
    }
   ],
   "source": [
    "# or은 조건 중 하나라도 참이면 참입니다\n",
    "nick = \"D.va\"\n",
    "name = \"Song hana\"\n",
    "\n",
    "if nick == \"D.va\" or nick == \"Diva\":\n",
    "    print(\"You must be\", nick,\"!!\")\n",
    "\n",
    "if nick == \"Diva\" or name == \"Song hana\":\n",
    "    print(\"Welcome back to overwatch\")"
   ]
  },
  {
   "cell_type": "markdown",
   "metadata": {},
   "source": [
    "#### 4.2.3 not"
   ]
  },
  {
   "cell_type": "code",
   "execution_count": 4,
   "metadata": {},
   "outputs": [
    {
     "name": "stdout",
     "output_type": "stream",
     "text": [
      "You are diva!\n"
     ]
    }
   ],
   "source": [
    "# not은 조건이 참이면 False를, 거짓이면 True를 반환합니다.\n",
    "is_diva = False\n",
    "\n",
    "if not is_diva:\n",
    "    print(\"You are diva!\")"
   ]
  },
  {
   "cell_type": "markdown",
   "metadata": {},
   "source": [
    "#### 4.2.4 in"
   ]
  },
  {
   "cell_type": "code",
   "execution_count": 5,
   "metadata": {},
   "outputs": [
    {
     "name": "stdout",
     "output_type": "stream",
     "text": [
      "True\n",
      "True\n",
      "False\n",
      "True\n",
      "True\n",
      "False\n"
     ]
    }
   ],
   "source": [
    "# 특정 값이 있는지 없는지 확인하는 경우에 사용합니다.\n",
    "l = [1, 2, 3]\n",
    "s = {4, 5, 6, 6}\n",
    "d = {\"one\":1, \"two\":2, \"three\":3}\n",
    "t = (7, 8, 9)\n",
    "\n",
    "print(1 in l)\n",
    "print(6 in s)\n",
    "print(7 in s)\n",
    "print(\"one\" in d)\n",
    "print(9 in t)\n",
    "print(10 in t)"
   ]
  },
  {
   "cell_type": "markdown",
   "metadata": {},
   "source": [
    "### 4.3 while 문"
   ]
  },
  {
   "cell_type": "code",
   "execution_count": 6,
   "metadata": {},
   "outputs": [
    {
     "name": "stdout",
     "output_type": "stream",
     "text": [
      "i is : 0\n",
      "i is : 1\n",
      "i is : 2\n",
      "i is : 3\n",
      "i is : 4\n",
      "i is : 5\n",
      "i is : 6\n",
      "i is : 7\n",
      "i is : 8\n",
      "i is : 9\n"
     ]
    }
   ],
   "source": [
    "# 조건에 맞지 않을때까지(= 조건이 맞을 동안) 계속 실행\n",
    "i = 0\n",
    "\n",
    "while i < 10:\n",
    "    print(\"i is :\", i)\n",
    "    i += 1"
   ]
  },
  {
   "cell_type": "markdown",
   "metadata": {},
   "source": [
    "### 4.4 for 문\n",
    "\n",
    ": 리스트와 딕셔너리를 순회하거나 지정된 횟수만큼 작업을 반복할 수 있음"
   ]
  },
  {
   "cell_type": "markdown",
   "metadata": {},
   "source": [
    "#### 4.4.1 리스트 및 딕셔너리와 함께 for문 사용하기"
   ]
  },
  {
   "cell_type": "code",
   "execution_count": 7,
   "metadata": {},
   "outputs": [
    {
     "name": "stdout",
     "output_type": "stream",
     "text": [
      "You are Miku\n",
      "You are Rin\n",
      "You are Ren\n",
      "You are Luka\n",
      "You are Seeu\n",
      "You are D.va\n"
     ]
    }
   ],
   "source": [
    "# 리스트\n",
    "names = [\"Miku\", \"Rin\", \"Ren\", \"Luka\", \"Seeu\", \"D.va\"]\n",
    "\n",
    "for name in names:\n",
    "    print(\"You are\", name)"
   ]
  },
  {
   "cell_type": "code",
   "execution_count": 8,
   "metadata": {},
   "outputs": [
    {
     "name": "stdout",
     "output_type": "stream",
     "text": [
      "Name : Miku\n",
      "version : 3\n",
      "company : Overwatch\n",
      "like_number : 39\n",
      " \n",
      "Name\n",
      "version\n",
      "company\n",
      "like_number\n",
      " \n",
      "Miku\n",
      "3\n",
      "Overwatch\n",
      "39\n"
     ]
    }
   ],
   "source": [
    "# 딕셔너리\n",
    "Diva_info = {\n",
    "    \"Name\":\"Miku\",\n",
    "    \"version\":3,\n",
    "    \"company\":\"Overwatch\",\n",
    "    \"like_number\":39\n",
    "}\n",
    "\n",
    "for title in Diva_info: # 전체\n",
    "    print(title, \":\", Diva_info[title])\n",
    "\n",
    "print(' ')\n",
    "\n",
    "for keys in Diva_info.keys(): # key값만\n",
    "    print(keys)\n",
    "    \n",
    "print(' ')\n",
    "\n",
    "for values in Diva_info.values(): # value값만\n",
    "    print(values)"
   ]
  },
  {
   "cell_type": "markdown",
   "metadata": {},
   "source": [
    "#### 4.4.2 range() 함수와 함께 사용하기"
   ]
  },
  {
   "cell_type": "code",
   "execution_count": 9,
   "metadata": {},
   "outputs": [
    {
     "name": "stdout",
     "output_type": "stream",
     "text": [
      "1\n",
      "3\n",
      "5\n",
      "7\n",
      "9\n",
      "11\n",
      "13\n",
      "15\n",
      "17\n",
      "19\n"
     ]
    }
   ],
   "source": [
    "for i in range(1, 20, 2): \n",
    "    print(i) # 1부터 19까지 2 간격으로 print하라는 의미"
   ]
  },
  {
   "cell_type": "markdown",
   "metadata": {},
   "source": [
    "### 4.5 break\n",
    "\n",
    ": 특정 조건에 해당 루프 전체를 중지시키고 싶을 때"
   ]
  },
  {
   "cell_type": "code",
   "execution_count": 10,
   "metadata": {},
   "outputs": [
    {
     "name": "stdout",
     "output_type": "stream",
     "text": [
      "I found 9 but this is not I want\n",
      "I found 1 but this is not I want\n",
      "I found 2 but this is not I want\n",
      "I found 7 but this is not I want\n",
      "I found 0 but this is not I want\n",
      "I found 4 but this is not I want\n",
      "I found 10 but this is not I want\n",
      "I found 2 but this is not I want\n",
      "I Found it! 39!!\n"
     ]
    }
   ],
   "source": [
    "# 일반적으로 조건문에서 특정조건의 참일 경우에 실행\n",
    "numbers = [9, 1, 2, 7, 0, 4, 10, 2, 39, 10, 33, 36, 38]\n",
    "\n",
    "for number in numbers:\n",
    "    if number == 39:\n",
    "        print(\"I Found it! 39!!\")\n",
    "        break # number 리스트에서 39가 나올때 해당 for문을 중시키기라는 의미\n",
    "    else:\n",
    "        print(\"I found\", number, \"but this is not I want\")"
   ]
  },
  {
   "cell_type": "markdown",
   "metadata": {},
   "source": [
    "### 4.6 continue"
   ]
  },
  {
   "cell_type": "code",
   "execution_count": 11,
   "metadata": {},
   "outputs": [
    {
     "name": "stdout",
     "output_type": "stream",
     "text": [
      "number: 2\n",
      "multiply by 2: 4\n",
      "number: 5\n",
      "multiply by 2: 10\n"
     ]
    }
   ],
   "source": [
    "# 특정부분을 그냥 넘기고 싶을 때 실행\n",
    "l = [\"1\", 2, \"3\", \"4\", 5]\n",
    "\n",
    "for item in l:\n",
    "    if type(item) is str:\n",
    "        # item의 타입이 str일때 그냥 다음 item으로 넘어가기 때문에 밑에 print문까지 접근할 수 없다.\n",
    "        continue\n",
    "\n",
    "    print(\"number:\", item)\n",
    "    print(\"multiply by 2:\", item * 2)"
   ]
  },
  {
   "cell_type": "markdown",
   "metadata": {},
   "source": [
    "### 4.7 pass"
   ]
  },
  {
   "cell_type": "code",
   "execution_count": 12,
   "metadata": {},
   "outputs": [],
   "source": [
    "# 아무것도 실행하지 않지만 무언가 있어야 할 자리에 넣는 것을 의미\n",
    "\n",
    "for i in range(10):\n",
    "    pass"
   ]
  }
 ],
 "metadata": {
  "kernelspec": {
   "display_name": "Python 3",
   "language": "python",
   "name": "python3"
  },
  "language_info": {
   "codemirror_mode": {
    "name": "ipython",
    "version": 3
   },
   "file_extension": ".py",
   "mimetype": "text/x-python",
   "name": "python",
   "nbconvert_exporter": "python",
   "pygments_lexer": "ipython3",
   "version": "3.6.6"
  }
 },
 "nbformat": 4,
 "nbformat_minor": 2
}

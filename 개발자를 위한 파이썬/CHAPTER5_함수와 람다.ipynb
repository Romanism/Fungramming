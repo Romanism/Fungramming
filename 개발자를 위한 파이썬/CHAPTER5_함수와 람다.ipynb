{
 "cells": [
  {
   "cell_type": "markdown",
   "metadata": {},
   "source": [
    "# CHAPTER5 함수와 람다\n",
    "\n",
    "- 함수\n",
    "- 람다"
   ]
  },
  {
   "cell_type": "markdown",
   "metadata": {},
   "source": [
    "---"
   ]
  },
  {
   "cell_type": "markdown",
   "metadata": {},
   "source": [
    "### 5.1 함수"
   ]
  },
  {
   "cell_type": "code",
   "execution_count": 1,
   "metadata": {},
   "outputs": [
    {
     "name": "stdout",
     "output_type": "stream",
     "text": [
      "8\n"
     ]
    }
   ],
   "source": [
    "# 함수를 중심으로 모든 개념을 구현하기 때문에 매우 중요!\n",
    "def add_with_transform(left, right, transform_func):\n",
    "    '''\n",
    "    left, right 인자를 받아서 더하고 \n",
    "    function에 right를 넣어 같이 더해주는 함수\n",
    "    \n",
    "    '''\n",
    "    tmp_val = transform_func(left) + transform_func(right)\n",
    "    return transform_func(tmp_val)\n",
    "\n",
    "\n",
    "def add_plus_1(number):\n",
    "    '''\n",
    "    number에 1을 더하는 함수\n",
    "    '''\n",
    "    return number + 1\n",
    "\n",
    "\n",
    "# (2 + 1) + (3 + 1) + 1 = 8\n",
    "ret_val = add_with_transform(2, 3, add_plus_1)\n",
    "\n",
    "print(ret_val)"
   ]
  },
  {
   "cell_type": "markdown",
   "metadata": {},
   "source": [
    "### 5.2 람다"
   ]
  },
  {
   "cell_type": "code",
   "execution_count": 2,
   "metadata": {},
   "outputs": [
    {
     "name": "stdout",
     "output_type": "stream",
     "text": [
      "8\n",
      "31.0\n"
     ]
    }
   ],
   "source": [
    "# 간단한 처리르 하기 위해 매번 통째로 함수를 선언하기 번거로울 때 사용\n",
    "print(add_with_transform(2, 3, lambda x: x + 1))\n",
    "print(add_with_transform(110, 14, lambda x: x / 2))"
   ]
  }
 ],
 "metadata": {
  "kernelspec": {
   "display_name": "Python 3",
   "language": "python",
   "name": "python3"
  },
  "language_info": {
   "codemirror_mode": {
    "name": "ipython",
    "version": 3
   },
   "file_extension": ".py",
   "mimetype": "text/x-python",
   "name": "python",
   "nbconvert_exporter": "python",
   "pygments_lexer": "ipython3",
   "version": "3.6.6"
  }
 },
 "nbformat": 4,
 "nbformat_minor": 2
}

{
 "cells": [
  {
   "cell_type": "markdown",
   "metadata": {},
   "source": [
    "# Chapter01 설치"
   ]
  },
  {
   "cell_type": "markdown",
   "metadata": {},
   "source": [
    "### 1.1 플라스크 (Flask) "
   ]
  },
  {
   "cell_type": "markdown",
   "metadata": {},
   "source": [
    "#### 1.1.1 정의\n",
    "\n",
    "- 플라스크(Flask)는 표준을 따르는 프레임워크로 마이크로프레임워크(MicroFramework)라고 불릴만큼 규모가 작습니다.\n",
    "- 작다고 해서 다른 프레임 워크에 비해 기능이 떨어지는 것을 의미하진 않습니다.\n",
    "- 기본 서비스를 제공하는 코어를 제공하며 나머지 기능은 확장(extension)으로 제공합니다."
   ]
  },
  {
   "cell_type": "markdown",
   "metadata": {},
   "source": [
    "#### 1.1.2 플라스크의 의존성\n",
    "1. Werkzeug : 라우팅, 디버깅 그리고 웹 서버 게이트웨이 인터페이스 (WSGI) 서브시스템이 의존하고 있습니다.\n",
    "2. Jinja2 : 템플릿 지원은 Jinja2에 의존하고 있습니다."
   ]
  },
  {
   "cell_type": "markdown",
   "metadata": {},
   "source": [
    "### 1.2 가상환경의 사용"
   ]
  },
  {
   "cell_type": "markdown",
   "metadata": {},
   "source": [
    "- 가상환경은 마구잡이식의 패키지 통합이나 시스템의 파이썬 인터프리터에서 버전 충돌의 발생을 막을 수 있기 때문에 유용합니다.\n",
    "- 가상환경을 사용하기 위해 관리자 권한이 필요하지 않는다는 점은 가상환경의 장점입니다."
   ]
  },
  {
   "cell_type": "markdown",
   "metadata": {},
   "source": [
    "### 1.3 pip를 이용한 파이썬 패키지 설치"
   ]
  },
  {
   "cell_type": "markdown",
   "metadata": {},
   "source": [
    "- 대부분 파이썬 패키지는 pip라는 유틸리티를 사용하여 설치합니다.\n",
    "\n",
    "\n",
    "    pip install flask"
   ]
  }
 ],
 "metadata": {
  "kernelspec": {
   "display_name": "Python 3",
   "language": "python",
   "name": "python3"
  },
  "language_info": {
   "codemirror_mode": {
    "name": "ipython",
    "version": 3
   },
   "file_extension": ".py",
   "mimetype": "text/x-python",
   "name": "python",
   "nbconvert_exporter": "python",
   "pygments_lexer": "ipython3",
   "version": "3.6.5"
  }
 },
 "nbformat": 4,
 "nbformat_minor": 2
}

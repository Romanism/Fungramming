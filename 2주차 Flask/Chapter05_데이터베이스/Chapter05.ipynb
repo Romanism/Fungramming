{
 "cells": [
  {
   "cell_type": "markdown",
   "metadata": {},
   "source": [
    "# Chapter05 데이터베이스 오퍼레이션"
   ]
  },
  {
   "cell_type": "markdown",
   "metadata": {},
   "source": [
    "### 1. 테이블의 생성"
   ]
  },
  {
   "cell_type": "code",
   "execution_count": 1,
   "metadata": {
    "scrolled": false
   },
   "outputs": [],
   "source": [
    "from hello import db\n",
    "db.create_all()\n",
    "db.drop_all()\n",
    "db.create_all()"
   ]
  },
  {
   "cell_type": "markdown",
   "metadata": {},
   "source": [
    "### 2. 행의 추가 "
   ]
  },
  {
   "cell_type": "code",
   "execution_count": 2,
   "metadata": {},
   "outputs": [],
   "source": [
    "from hello import Role, User\n",
    "\n",
    "# make roles\n",
    "admin_role = Role(name = 'Admin')\n",
    "mod_role = Role(name = 'Moderator')\n",
    "user_role = Role(name = 'User')\n",
    "\n",
    "# make users\n",
    "user_john = User(username = 'john', role = admin_role)\n",
    "user_susan = User(username = 'susan', role = user_role)\n",
    "user_david = User(username = 'david', role = user_role)"
   ]
  },
  {
   "cell_type": "code",
   "execution_count": 3,
   "metadata": {},
   "outputs": [
    {
     "name": "stdout",
     "output_type": "stream",
     "text": [
      "None\n",
      "None\n",
      "None\n"
     ]
    }
   ],
   "source": [
    "# id값이 설정되지 않아 아직 데이터베이스에 작성되지 않음\n",
    "print(admin_role.id)\n",
    "print(mod_role.id)\n",
    "print(user_role.id)"
   ]
  },
  {
   "cell_type": "markdown",
   "metadata": {},
   "source": [
    "#### 세션 추가"
   ]
  },
  {
   "cell_type": "code",
   "execution_count": 4,
   "metadata": {},
   "outputs": [],
   "source": [
    "# object를 session에 추가합니다.\n",
    "# 데이터베이스 세션은 트랜잭션(transaction)이라고도 합니다.\n",
    "db.session.add(admin_role)\n",
    "db.session.add(mod_role)\n",
    "db.session.add(user_role)\n",
    "db.session.add(user_john)\n",
    "db.session.add(user_susan)\n",
    "db.session.add(user_david)"
   ]
  },
  {
   "cell_type": "code",
   "execution_count": 5,
   "metadata": {},
   "outputs": [],
   "source": [
    "# 데이터베이스에 오브젝트를 작성하기 위해선 세션이 commit() 메소드를 호출하여 커밋(commit)해야 합니다.\n",
    "db.session.commit()"
   ]
  },
  {
   "cell_type": "code",
   "execution_count": 6,
   "metadata": {},
   "outputs": [
    {
     "name": "stdout",
     "output_type": "stream",
     "text": [
      "1\n",
      "2\n",
      "3\n"
     ]
    }
   ],
   "source": [
    "# 속성이 설정된 것을 확인합니다.\n",
    "print(admin_role.id)\n",
    "print(mod_role.id)\n",
    "print(user_role.id)"
   ]
  },
  {
   "cell_type": "markdown",
   "metadata": {},
   "source": [
    "### 3. 행의 수정"
   ]
  },
  {
   "cell_type": "code",
   "execution_count": 7,
   "metadata": {},
   "outputs": [],
   "source": [
    "# admin_role을 Administrator로 수정합니다.\n",
    "admin_role.name = 'Administrator'\n",
    "db.session.add(admin_role)\n",
    "db.session.commit()"
   ]
  },
  {
   "cell_type": "markdown",
   "metadata": {},
   "source": [
    "### 4. 행의 삭제"
   ]
  },
  {
   "cell_type": "code",
   "execution_count": 8,
   "metadata": {},
   "outputs": [],
   "source": [
    "# mod_role을 삭제합니다.\n",
    "db.session.delete(mod_role)\n",
    "db.session.commit()"
   ]
  },
  {
   "cell_type": "markdown",
   "metadata": {},
   "source": [
    "### 5. 행의 쿼리"
   ]
  },
  {
   "cell_type": "code",
   "execution_count": 9,
   "metadata": {},
   "outputs": [
    {
     "data": {
      "text/plain": [
       "[<Role 'Administrator'>, <Role 'User'>]"
      ]
     },
     "execution_count": 9,
     "metadata": {},
     "output_type": "execute_result"
    }
   ],
   "source": [
    "# Role의 전체 내용을 리턴합니다.\n",
    "Role.query.all()"
   ]
  },
  {
   "cell_type": "code",
   "execution_count": 10,
   "metadata": {},
   "outputs": [
    {
     "data": {
      "text/plain": [
       "[<User 'john'>, <User 'susan'>, <User 'david'>]"
      ]
     },
     "execution_count": 10,
     "metadata": {},
     "output_type": "execute_result"
    }
   ],
   "source": [
    "# User의 전체 내용을 리턴합니다.\n",
    "User.query.all()"
   ]
  },
  {
   "cell_type": "code",
   "execution_count": 11,
   "metadata": {},
   "outputs": [
    {
     "data": {
      "text/plain": [
       "[<User 'susan'>, <User 'david'>]"
      ]
     },
     "execution_count": 11,
     "metadata": {},
     "output_type": "execute_result"
    }
   ],
   "source": [
    "# User에서 role이 user_role인 것만을 리턴합니다.\n",
    "User.query.filter_by(role = user_role).all()"
   ]
  },
  {
   "cell_type": "code",
   "execution_count": 12,
   "metadata": {},
   "outputs": [
    {
     "data": {
      "text/plain": [
       "'SELECT users.id AS users_id, users.username AS users_username, users.role_id AS users_role_id \\nFROM users \\nWHERE ? = users.role_id'"
      ]
     },
     "execution_count": 12,
     "metadata": {},
     "output_type": "execute_result"
    }
   ],
   "source": [
    "# str() 명령어를 통해 네이티브 SQL쿼리를 알 수 있습니다.\n",
    "str(User.query.filter_by(role = user_role))"
   ]
  },
  {
   "cell_type": "code",
   "execution_count": 13,
   "metadata": {
    "scrolled": true
   },
   "outputs": [
    {
     "data": {
      "text/plain": [
       "[<User 'david'>, <User 'susan'>]"
      ]
     },
     "execution_count": 13,
     "metadata": {},
     "output_type": "execute_result"
    }
   ],
   "source": [
    "# 아직 실행하지 않은 쿼리를 리턴합니다. (lazy = \"dynamic\" 추가)\n",
    "user_role.users.order_by(User.username).all()"
   ]
  },
  {
   "cell_type": "code",
   "execution_count": 14,
   "metadata": {
    "scrolled": true
   },
   "outputs": [
    {
     "data": {
      "text/plain": [
       "2"
      ]
     },
     "execution_count": 14,
     "metadata": {},
     "output_type": "execute_result"
    }
   ],
   "source": [
    "user_role.users.count()"
   ]
  }
 ],
 "metadata": {
  "kernelspec": {
   "display_name": "Python 3",
   "language": "python",
   "name": "python3"
  },
  "language_info": {
   "codemirror_mode": {
    "name": "ipython",
    "version": 3
   },
   "file_extension": ".py",
   "mimetype": "text/x-python",
   "name": "python",
   "nbconvert_exporter": "python",
   "pygments_lexer": "ipython3",
   "version": "3.6.6"
  }
 },
 "nbformat": 4,
 "nbformat_minor": 2
}
